{
 "cells": [
  {
   "cell_type": "code",
   "execution_count": 32,
   "metadata": {},
   "outputs": [],
   "source": [
    "import torch\n",
    "import cupy as cp\n",
    "import cupyx as cpx\n",
    "import psutil\n",
    "import numpy as np"
   ]
  },
  {
   "cell_type": "markdown",
   "metadata": {},
   "source": [
    "## Hardware Setup and Reporting"
   ]
  },
  {
   "cell_type": "code",
   "execution_count": 7,
   "metadata": {},
   "outputs": [
    {
     "name": "stdout",
     "output_type": "stream",
     "text": [
      "Tue Jul 23 13:13:25 2024       \n",
      "+-----------------------------------------------------------------------------------------+\n",
      "| NVIDIA-SMI 552.41                 Driver Version: 552.41         CUDA Version: 12.4     |\n",
      "|-----------------------------------------+------------------------+----------------------+\n",
      "| GPU  Name                     TCC/WDDM  | Bus-Id          Disp.A | Volatile Uncorr. ECC |\n",
      "| Fan  Temp   Perf          Pwr:Usage/Cap |           Memory-Usage | GPU-Util  Compute M. |\n",
      "|                                         |                        |               MIG M. |\n",
      "|=========================================+========================+======================|\n",
      "|   0  NVIDIA GeForce RTX 4090      WDDM  |   00000000:01:00.0  On |                  Off |\n",
      "|  0%   36C    P8             12W /  450W |    1107MiB /  24564MiB |      0%      Default |\n",
      "|                                         |                        |                  N/A |\n",
      "+-----------------------------------------+------------------------+----------------------+\n",
      "                                                                                         \n",
      "+-----------------------------------------------------------------------------------------+\n",
      "| Processes:                                                                              |\n",
      "|  GPU   GI   CI        PID   Type   Process name                              GPU Memory |\n",
      "|        ID   ID                                                               Usage      |\n",
      "|=========================================================================================|\n",
      "|    0   N/A  N/A      7608    C+G   ...n\\126.0.2592.113\\msedgewebview2.exe      N/A      |\n",
      "|    0   N/A  N/A      9488      C   ...muser\\anaconda3\\envs\\tqs\\python.exe      N/A      |\n",
      "|    0   N/A  N/A     11520    C+G   C:\\Windows\\explorer.exe                     N/A      |\n",
      "|    0   N/A  N/A     13220    C+G   ...2txyewy\\StartMenuExperienceHost.exe      N/A      |\n",
      "|    0   N/A  N/A     13244    C+G   ...nt.CBS_cw5n1h2txyewy\\SearchHost.exe      N/A      |\n",
      "|    0   N/A  N/A     13544    C+G   ...5n1h2txyewy\\ShellExperienceHost.exe      N/A      |\n",
      "|    0   N/A  N/A     13628    C+G   ...siveControlPanel\\SystemSettings.exe      N/A      |\n",
      "|    0   N/A  N/A     13736    C+G   ...__8wekyb3d8bbwe\\WindowsTerminal.exe      N/A      |\n",
      "|    0   N/A  N/A     16280    C+G   ...ekyb3d8bbwe\\PhoneExperienceHost.exe      N/A      |\n",
      "|    0   N/A  N/A     16844    C+G   ...crosoft\\Edge\\Application\\msedge.exe      N/A      |\n",
      "|    0   N/A  N/A     17180    C+G   ...les\\Microsoft OneDrive\\OneDrive.exe      N/A      |\n",
      "|    0   N/A  N/A     19576    C+G   ...Programs\\Microsoft VS Code\\Code.exe      N/A      |\n",
      "|    0   N/A  N/A     21884    C+G   ...on\\HEX\\Creative Cloud UI Helper.exe      N/A      |\n",
      "|    0   N/A  N/A     22776    C+G   ...oogle\\Chrome\\Application\\chrome.exe      N/A      |\n",
      "+-----------------------------------------------------------------------------------------+\n"
     ]
    }
   ],
   "source": [
    "!nvidia-smi"
   ]
  },
  {
   "cell_type": "code",
   "execution_count": 9,
   "metadata": {},
   "outputs": [],
   "source": [
    "def gpu_setup():\n",
    "    # Setup for PyTorch:\n",
    "    if torch.cuda.is_available():\n",
    "        torch_device = torch.device('cuda')\n",
    "        print('PyTorch is using GPU {}'.format(torch.cuda.current_device()))\n",
    "    else:\n",
    "        torch_device = torch.device('cpu')\n",
    "        print('GPU unavailable; using CPU')\n",
    "\n",
    "    # Setup for CuPy:\n",
    "    cupy_device = cp.cuda.Device(0)\n",
    "    cupy_device.use()\n",
    "    print('CuPy is using GPU {}'.format(cupy_device))\n",
    "\n",
    "    return torch_device, cupy_device"
   ]
  },
  {
   "cell_type": "code",
   "execution_count": 8,
   "metadata": {},
   "outputs": [
    {
     "ename": "NameError",
     "evalue": "name 'gpu_setup' is not defined",
     "output_type": "error",
     "traceback": [
      "\u001b[1;31m---------------------------------------------------------------------------\u001b[0m",
      "\u001b[1;31mNameError\u001b[0m                                 Traceback (most recent call last)",
      "Cell \u001b[1;32mIn[8], line 1\u001b[0m\n\u001b[1;32m----> 1\u001b[0m torch_device, cupy_device \u001b[38;5;241m=\u001b[39m \u001b[43mgpu_setup\u001b[49m()\n",
      "\u001b[1;31mNameError\u001b[0m: name 'gpu_setup' is not defined"
     ]
    }
   ],
   "source": [
    "torch_device, cupy_device = gpu_setup()"
   ]
  },
  {
   "cell_type": "code",
   "execution_count": 10,
   "metadata": {},
   "outputs": [],
   "source": [
    "BYTES_IN_GB = 1024 * 1024 * 1024\n",
    "def sys_report():\n",
    "    print(\"CPU: \", psutil.cpu_percent(), \"percent\")\n",
    "    print(\"MEM: \", psutil.virtual_memory().available / BYTES_IN_GB, \"GB available\")\n",
    "    print(\"SWAP: \", psutil.swap_memory().used / BYTES_IN_GB, \"GB used\")\n",
    "    print(\"DISK: \", psutil.disk_usage('/').free / BYTES_IN_GB, \"GB available\")\n",
    "    print(\"PyTorch GPU: \", torch.cuda.memory_allocated() / BYTES_IN_GB, \"GB used\")"
   ]
  },
  {
   "cell_type": "code",
   "execution_count": 11,
   "metadata": {},
   "outputs": [
    {
     "name": "stdout",
     "output_type": "stream",
     "text": [
      "CPU:  0.9 percent\n",
      "MEM:  23.234119415283203 GB available\n",
      "SWAP:  0.21138381958007812 GB used\n",
      "DISK:  1606.5283470153809 GB available\n",
      "PyTorch GPU:  0.0 GB used\n"
     ]
    }
   ],
   "source": [
    "sys_report()"
   ]
  },
  {
   "cell_type": "markdown",
   "metadata": {},
   "source": [
    "## Full-CUDA Hamiltonian Construction"
   ]
  },
  {
   "cell_type": "code",
   "execution_count": 12,
   "metadata": {},
   "outputs": [],
   "source": [
    "from cupyx.scipy.sparse import identity, kron\n",
    "from cupyx.scipy.sparse import csr_matrix\n",
    "from cupyx.scipy.sparse.linalg import eigsh "
   ]
  },
  {
   "cell_type": "code",
   "execution_count": 13,
   "metadata": {},
   "outputs": [
    {
     "data": {
      "text/plain": [
       "array([[1., 0., 0., 0., 0.],\n",
       "       [0., 1., 0., 0., 0.],\n",
       "       [0., 0., 1., 0., 0.],\n",
       "       [0., 0., 0., 1., 0.],\n",
       "       [0., 0., 0., 0., 1.]])"
      ]
     },
     "execution_count": 13,
     "metadata": {},
     "output_type": "execute_result"
    }
   ],
   "source": [
    "identity(5, format='csr').toarray()"
   ]
  },
  {
   "cell_type": "code",
   "execution_count": 14,
   "metadata": {},
   "outputs": [],
   "source": [
    "from functools import reduce"
   ]
  },
  {
   "cell_type": "code",
   "execution_count": 15,
   "metadata": {},
   "outputs": [],
   "source": [
    "import time"
   ]
  },
  {
   "cell_type": "code",
   "execution_count": 16,
   "metadata": {},
   "outputs": [],
   "source": [
    "import scipy as sp"
   ]
  },
  {
   "cell_type": "code",
   "execution_count": 17,
   "metadata": {},
   "outputs": [],
   "source": [
    "def tfim_hamiltonian_cuda(N, h, J, periodic, dtype, return_time):\n",
    "    # TODO: CUDA stores matrices in row-major order--though I'm not yet certain about \n",
    "    # how important this is to performance\n",
    "\n",
    "    start = time.time()\n",
    "\n",
    "    constants_dtype = cp.float32\n",
    "    I = identity(2, format='csr', dtype=constants_dtype)\n",
    "    X = csr_matrix(cp.array([[0.0, 1.0], [1.0, 0.0]]), dtype=constants_dtype)\n",
    "    Z = csr_matrix(cp.array([[1.0, 0.0], [0.0, -1.0]]), dtype=constants_dtype)\n",
    "\n",
    "    operators_first_term = np.array([I] * N)\n",
    "    operators_first_term[0] = Z\n",
    "    operators_first_term[1] = Z\n",
    "\n",
    "    operators_second_term = np.array([I] * N)\n",
    "    operators_second_term[0] = X\n",
    "\n",
    "    H = csr_matrix((2**N, 2**N), dtype=dtype)\n",
    "\n",
    "    # NOTE: roll might cause reallocations but is not an issue because \n",
    "    # both N and the sizes of I, X, and Z are quite small. TODO: perhaps \n",
    "    # verify this and consider a different method?\n",
    "\n",
    "    for _ in range(N if periodic else N - 1):\n",
    "        H -= J * reduce(kron, operators_first_term)\n",
    "        operators_first_term = np.roll(operators_first_term, 1)\n",
    "\n",
    "    for _ in range(N):\n",
    "        H -= h * reduce(kron, operators_second_term)\n",
    "        operators_second_term = np.roll(operators_second_term, 1)\n",
    "\n",
    "    end = time.time()\n",
    "\n",
    "    if return_time:\n",
    "        return H, end - start\n",
    "    else:   \n",
    "        return H"
   ]
  },
  {
   "cell_type": "code",
   "execution_count": 18,
   "metadata": {},
   "outputs": [],
   "source": [
    "from cupyx.profiler import benchmark"
   ]
  },
  {
   "cell_type": "code",
   "execution_count": 30,
   "metadata": {},
   "outputs": [
    {
     "ename": "NameError",
     "evalue": "name 'cp' is not defined",
     "output_type": "error",
     "traceback": [
      "\u001b[1;31m---------------------------------------------------------------------------\u001b[0m",
      "\u001b[1;31mNameError\u001b[0m                                 Traceback (most recent call last)",
      "Cell \u001b[1;32mIn[30], line 1\u001b[0m\n\u001b[1;32m----> 1\u001b[0m \u001b[38;5;28mprint\u001b[39m(benchmark(tfim_hamiltonian_cuda, (\u001b[38;5;241m18\u001b[39m, \u001b[38;5;241m100\u001b[39m, \u001b[38;5;241m1\u001b[39m, \u001b[38;5;28;01mTrue\u001b[39;00m, \u001b[43mcp\u001b[49m\u001b[38;5;241m.\u001b[39mfloat32, \u001b[38;5;28;01mFalse\u001b[39;00m), n_repeat\u001b[38;5;241m=\u001b[39m\u001b[38;5;241m30\u001b[39m, n_warmup\u001b[38;5;241m=\u001b[39m\u001b[38;5;241m10\u001b[39m))\n",
      "\u001b[1;31mNameError\u001b[0m: name 'cp' is not defined"
     ]
    }
   ],
   "source": [
    "print(benchmark(tfim_hamiltonian_cuda, (18, 100, 1, True, cp.float32, False), n_repeat=30, n_warmup=10))"
   ]
  },
  {
   "cell_type": "code",
   "execution_count": 19,
   "metadata": {},
   "outputs": [
    {
     "name": "stdout",
     "output_type": "stream",
     "text": [
      "Hamiltonian of shape (1024, 1024) constructed\n",
      "Hamiltonian of shape (2048, 2048) constructed\n",
      "Hamiltonian of shape (4096, 4096) constructed\n",
      "Hamiltonian of shape (8192, 8192) constructed\n",
      "Hamiltonian of shape (16384, 16384) constructed\n",
      "Hamiltonian of shape (32768, 32768) constructed\n",
      "Hamiltonian of shape (65536, 65536) constructed\n",
      "Hamiltonian of shape (131072, 131072) constructed\n",
      "Hamiltonian of shape (262144, 262144) constructed\n",
      "Hamiltonian of shape (524288, 524288) constructed\n",
      "Hamiltonian of shape (1048576, 1048576) constructed\n",
      "Hamiltonian of shape (2097152, 2097152) constructed\n",
      "Hamiltonian of shape (4194304, 4194304) constructed\n"
     ]
    }
   ],
   "source": [
    "import time\n",
    "\n",
    "import matplotlib.pyplot as plt\n",
    "\n",
    "# Define the range of system sizes\n",
    "system_sizes = range(10, 23)\n",
    "\n",
    "# Initialize empty lists to store the timings\n",
    "construction_times = []\n",
    "total_times = []\n",
    "bytes = []\n",
    "mempool_used = []   \n",
    "pinned_mempool_used = []\n",
    "\n",
    "mempool = cp.get_default_memory_pool()\n",
    "# pinned_mempool = cp.get_default_pinned_memory_pool()\n",
    "\n",
    "# Loop over the system sizes\n",
    "for N in system_sizes:\n",
    "    # Start timing the construction of the Hamiltonian\n",
    "    start_construction = time.time()\n",
    "\n",
    "    # Construct the Hamiltonian\n",
    "    H = tfim_hamiltonian_cuda(N, 100, 1, periodic=True, dtype=cp.float32, return_time=False)\n",
    "\n",
    "    # End timing the construction of the Hamiltonian\n",
    "    end_construction = time.time()\n",
    "\n",
    "    print(\"Hamiltonian of shape\", H.shape, \"constructed\")\n",
    "\n",
    "    H_bytes = H.data.nbytes + H.indptr.nbytes + H.indices.nbytes\n",
    "\n",
    "\n",
    "    # Start timing the total time (including construction and diagonalization)\n",
    "    start_total = time.time()\n",
    "\n",
    "    # Diagonalize the Hamiltonian (replace this with your own code)\n",
    "    # ...\n",
    "\n",
    "    # End timing the total time\n",
    "    end_total = time.time()\n",
    "\n",
    "    # Calculate the construction time and total time\n",
    "    construction_time = end_construction - start_construction\n",
    "    total_time = end_total - start_total\n",
    "\n",
    "    # Append the timings to the lists\n",
    "    construction_times.append(construction_time)\n",
    "    total_times.append(total_time)\n",
    "    bytes.append(H_bytes)\n",
    "    mempool_used.append(mempool.used_bytes())\n",
    "    # pinned_mempool_used.append(pinned_mempool.used_bytes())\n",
    "\n",
    "    # mempool.free_all_blocks()\n",
    "    # pinned_mempool.free_all_blocks()\n"
   ]
  },
  {
   "cell_type": "code",
   "execution_count": 20,
   "metadata": {},
   "outputs": [],
   "source": [
    "def plot_times(system_sizes, construction_times, label=\"Construction Time\"):\n",
    "    plt.plot(system_sizes, construction_times, label='Construction Time')\n",
    "    plt.plot(system_sizes, total_times, label='Total Time')\n",
    "    plt.xlabel('System Size')\n",
    "    plt.ylabel('Time (s)')\n",
    "    plt.title('Hamiltonian Construction and Total Time vs System Size')\n",
    "    plt.legend()\n",
    "    plt.show()"
   ]
  },
  {
   "cell_type": "code",
   "execution_count": 21,
   "metadata": {},
   "outputs": [
    {
     "data": {
      "image/png": "[encoded data removed]",
      "text/plain": [
       "<Figure size 640x480 with 1 Axes>"
      ]
     },
     "metadata": {},
     "output_type": "display_data"
    }
   ],
   "source": [
    "plot_times(system_sizes, construction_times)"
   ]
  },
  {
   "cell_type": "code",
   "execution_count": 35,
   "metadata": {},
   "outputs": [],
   "source": [
    "with cpx.profiler.profile():\n",
    "    tfim_hamiltonian_cuda(22, 100, 1, True, cp.float32, False)"
   ]
  },
  {
   "cell_type": "code",
   "execution_count": 23,
   "metadata": {},
   "outputs": [
    {
     "data": {
      "text/plain": [
       "<cupyx.scipy.sparse._csr.csr_matrix at 0x213f1067aa0>"
      ]
     },
     "execution_count": 23,
     "metadata": {},
     "output_type": "execute_result"
    }
   ],
   "source": [
    "tfim_hamiltonian_cuda(18, 100, 1, True, cp.float32, False)"
   ]
  },
  {
   "cell_type": "code",
   "execution_count": 29,
   "metadata": {},
   "outputs": [
    {
     "data": {
      "text/plain": [
       "<cupyx.scipy.sparse._csr.csr_matrix at 0x213f1688d70>"
      ]
     },
     "execution_count": 29,
     "metadata": {},
     "output_type": "execute_result"
    }
   ],
   "source": [
    "tfim_hamiltonian_cuda(20, 200, 1, True, cp.float32, False)"
   ]
  },
  {
   "cell_type": "code",
   "execution_count": null,
   "metadata": {},
   "outputs": [],
   "source": [
    "def plot_usage(system_sizes, bytes, mempool_used):\n",
    "  plt.plot(system_sizes, bytes, label='Bytes')\n",
    "  plt.plot(system_sizes, mempool_used, label='Mempool Used')\n",
    "  plt.xlabel('System Size')\n",
    "  plt.ylabel('Memory (bytes)')\n",
    "  plt.title('Bytes and Mempool Used vs System Size')\n",
    "  plt.legend()\n",
    "  plt.show()"
   ]
  },
  {
   "cell_type": "code",
   "execution_count": null,
   "metadata": {},
   "outputs": [
    {
     "data": {
      "image/png": "[encoded data removed]",
      "text/plain": [
       "<Figure size 640x480 with 1 Axes>"
      ]
     },
     "metadata": {},
     "output_type": "display_data"
    }
   ],
   "source": [
    "plot_usage(system_sizes, bytes, mempool_used)"
   ]
  },
  {
   "cell_type": "code",
   "execution_count": null,
   "metadata": {},
   "outputs": [],
   "source": [
    "N = 10\n",
    "\n",
    "I = identity(2, format='csr', dtype=cp.float64)\n",
    "X = csr_matrix(cp.array([[0.0, 1.0], [1.0, 0.0]]), dtype=cp.float64)\n",
    "Z = csr_matrix(cp.array([[1.0, 0.0], [0.0, -1.0]]), dtype=cp.float64)\n",
    "\n",
    "operators_first_term = np.array([I] * N)\n",
    "operators_first_term[0] = Z\n",
    "operators_first_term[1] = Z"
   ]
  },
  {
   "cell_type": "code",
   "execution_count": null,
   "metadata": {},
   "outputs": [
    {
     "data": {
      "text/plain": [
       "array([<cupyx.scipy.sparse._csr.csr_matrix object at 0x0000029A6A409A00>,\n",
       "       <cupyx.scipy.sparse._csr.csr_matrix object at 0x0000029A6A409A00>,\n",
       "       <cupyx.scipy.sparse._csr.csr_matrix object at 0x0000029A6A409010>,\n",
       "       <cupyx.scipy.sparse._csr.csr_matrix object at 0x0000029A6A409010>,\n",
       "       <cupyx.scipy.sparse._csr.csr_matrix object at 0x0000029A6A409010>,\n",
       "       <cupyx.scipy.sparse._csr.csr_matrix object at 0x0000029A6A409010>,\n",
       "       <cupyx.scipy.sparse._csr.csr_matrix object at 0x0000029A6A409010>,\n",
       "       <cupyx.scipy.sparse._csr.csr_matrix object at 0x0000029A6A409010>,\n",
       "       <cupyx.scipy.sparse._csr.csr_matrix object at 0x0000029A6A409010>,\n",
       "       <cupyx.scipy.sparse._csr.csr_matrix object at 0x0000029A6A409010>],\n",
       "      dtype=object)"
      ]
     },
     "execution_count": 13,
     "metadata": {},
     "output_type": "execute_result"
    }
   ],
   "source": [
    "operators_first_term"
   ]
  },
  {
   "cell_type": "code",
   "execution_count": null,
   "metadata": {},
   "outputs": [],
   "source": []
  }
 ],
 "metadata": {
  "kernelspec": {
   "display_name": "tqs",
   "language": "python",
   "name": "python3"
  },
  "language_info": {
   "codemirror_mode": {
    "name": "ipython",
    "version": 3
   },
   "file_extension": ".py",
   "mimetype": "text/x-python",
   "name": "python",
   "nbconvert_exporter": "python",
   "pygments_lexer": "ipython3",
   "version": "3.12.4"
  }
 },
 "nbformat": 4,
 "nbformat_minor": 2
}
