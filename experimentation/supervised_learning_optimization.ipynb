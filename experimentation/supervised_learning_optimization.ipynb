{
 "cells": [
  {
   "cell_type": "code",
   "execution_count": 1,
   "metadata": {},
   "outputs": [],
   "source": [
    "%load_ext autoreload\n",
    "%autoreload 2"
   ]
  },
  {
   "cell_type": "code",
   "execution_count": 2,
   "metadata": {},
   "outputs": [],
   "source": [
    "import torch\n",
    "import numpy as np\n",
    "from optimizer_supervised import Optimizer\n",
    "from Ising import Ising\n",
    "from model import TransformerModel"
   ]
  },
  {
   "cell_type": "code",
   "execution_count": 3,
   "metadata": {},
   "outputs": [],
   "source": [
    "def gpu_setup():\n",
    "    # Setup for PyTorch:\n",
    "    if torch.cuda.is_available():\n",
    "        torch_device = torch.device(\"cuda\")\n",
    "        print(\"PyTorch is using GPU {}\".format(torch.cuda.current_device()))\n",
    "    else:\n",
    "        torch_device = torch.device(\"cpu\")\n",
    "        print(\"GPU unavailable; using CPU\")"
   ]
  },
  {
   "cell_type": "code",
   "execution_count": 4,
   "metadata": {},
   "outputs": [],
   "source": [
    "torch.set_default_device(\"cuda\")"
   ]
  },
  {
   "cell_type": "code",
   "execution_count": 5,
   "metadata": {},
   "outputs": [
    {
     "data": {
      "text/plain": [
       "tensor([[ 2],\n",
       "        [ 4],\n",
       "        [ 6],\n",
       "        [ 8],\n",
       "        [10],\n",
       "        [12],\n",
       "        [14],\n",
       "        [16],\n",
       "        [18],\n",
       "        [20]])"
      ]
     },
     "execution_count": 5,
     "metadata": {},
     "output_type": "execute_result"
    }
   ],
   "source": [
    "# Specify \"cpu\" or \"cuda\" as the device\n",
    "system_sizes = torch.arange(2, 21, 2, device=\"cpu\").reshape(-1, 1)\n",
    "system_sizes"
   ]
  },
  {
   "cell_type": "code",
   "execution_count": 6,
   "metadata": {},
   "outputs": [
    {
     "data": {
      "text/plain": [
       "torch.float32"
      ]
     },
     "execution_count": 6,
     "metadata": {},
     "output_type": "execute_result"
    }
   ],
   "source": [
    "torch.get_default_dtype()"
   ]
  },
  {
   "cell_type": "code",
   "execution_count": 7,
   "metadata": {},
   "outputs": [
    {
     "data": {
      "text/plain": [
       "tensor([[ 2],\n",
       "        [ 4],\n",
       "        [ 6],\n",
       "        [ 8],\n",
       "        [10],\n",
       "        [12],\n",
       "        [14],\n",
       "        [16],\n",
       "        [18],\n",
       "        [20]])"
      ]
     },
     "execution_count": 7,
     "metadata": {},
     "output_type": "execute_result"
    }
   ],
   "source": [
    "system_sizes"
   ]
  },
  {
   "cell_type": "code",
   "execution_count": 8,
   "metadata": {},
   "outputs": [
    {
     "name": "stderr",
     "output_type": "stream",
     "text": [
      "/home/spandan/anaconda3/envs/tqs2/lib/python3.12/site-packages/torch/utils/_device.py:78: UserWarning: The use of `x.T` on tensors of dimension other than 2 to reverse their shape is deprecated and it will throw an error in a future release. Consider `x.mT` to transpose batches of matrices or `x.permute(*torch.arange(x.ndim - 1, -1, -1))` to reverse the dimensions of a tensor. (Triggered internally at /home/conda/feedstock_root/build_artifacts/libtorch_1718580740865/work/aten/src/ATen/native/TensorShape.cpp:3675.)\n",
      "  return func(*args, **kwargs)\n",
      "/home/spandan/anaconda3/envs/tqs2/lib/python3.12/site-packages/torch/utils/_device.py:78: UserWarning: To copy construct from a tensor, it is recommended to use sourceTensor.clone().detach() or sourceTensor.clone().detach().requires_grad_(True), rather than torch.tensor(sourceTensor).\n",
      "  return func(*args, **kwargs)\n"
     ]
    }
   ],
   "source": [
    "# Causes small allocation for Hamiltonian basis tensors\n",
    "Hamiltonians = [Ising(size, periodic=True) for size in system_sizes]"
   ]
  },
  {
   "cell_type": "code",
   "execution_count": 9,
   "metadata": {},
   "outputs": [
    {
     "data": {
      "text/plain": [
       "tensor([2])"
      ]
     },
     "execution_count": 9,
     "metadata": {},
     "output_type": "execute_result"
    }
   ],
   "source": [
    "ham = Hamiltonians[0]\n",
    "ham.system_size"
   ]
  },
  {
   "cell_type": "code",
   "execution_count": 10,
   "metadata": {},
   "outputs": [
    {
     "data": {
      "text/plain": [
       "tensor([2])"
      ]
     },
     "execution_count": 10,
     "metadata": {},
     "output_type": "execute_result"
    }
   ],
   "source": [
    "system_sizes[0]"
   ]
  },
  {
   "cell_type": "code",
   "execution_count": 11,
   "metadata": {},
   "outputs": [
    {
     "data": {
      "text/plain": [
       "tensor([[0, 0, 0,  ..., 1, 1, 1],\n",
       "        [0, 0, 0,  ..., 1, 1, 1],\n",
       "        [0, 0, 0,  ..., 1, 1, 1],\n",
       "        ...,\n",
       "        [0, 0, 0,  ..., 1, 1, 1],\n",
       "        [0, 0, 1,  ..., 0, 1, 1],\n",
       "        [0, 1, 0,  ..., 1, 0, 1]], device='cuda:0')"
      ]
     },
     "execution_count": 11,
     "metadata": {},
     "output_type": "execute_result"
    }
   ],
   "source": [
    "Hamiltonians[4].basis"
   ]
  },
  {
   "cell_type": "code",
   "execution_count": 12,
   "metadata": {},
   "outputs": [],
   "source": [
    "import sys"
   ]
  },
  {
   "cell_type": "code",
   "execution_count": 13,
   "metadata": {},
   "outputs": [
    {
     "data": {
      "text/plain": [
       "48"
      ]
     },
     "execution_count": 13,
     "metadata": {},
     "output_type": "execute_result"
    }
   ],
   "source": [
    "sys.getsizeof(Hamiltonians[8])"
   ]
  },
  {
   "cell_type": "code",
   "execution_count": 14,
   "metadata": {},
   "outputs": [
    {
     "data": {
      "text/plain": [
       "37748736"
      ]
     },
     "execution_count": 14,
     "metadata": {},
     "output_type": "execute_result"
    }
   ],
   "source": [
    "testbasis = Hamiltonians[8].basis\n",
    "testbasis.element_size() * testbasis.numel()"
   ]
  },
  {
   "cell_type": "code",
   "execution_count": 15,
   "metadata": {},
   "outputs": [
    {
     "data": {
      "image/png": "[encoded data removed]",
      "text/plain": [
       "<Figure size 640x480 with 1 Axes>"
      ]
     },
     "metadata": {},
     "output_type": "display_data"
    }
   ],
   "source": [
    "import matplotlib.pyplot as plt\n",
    "import sys\n",
    "\n",
    "bytes_in_gb = 1024**3\n",
    "\n",
    "# Get the sizes of Hamiltonians\n",
    "sizes = [\n",
    "    hamiltonian.basis.element_size() * hamiltonian.basis.numel() / bytes_in_gb\n",
    "    for hamiltonian in Hamiltonians\n",
    "]\n",
    "\n",
    "# Plot the sizes\n",
    "plt.plot(sizes)\n",
    "plt.xlabel(\"Index\")\n",
    "plt.ylabel(\"Size (Gb)\")\n",
    "plt.title(\"Sizes of Hamiltonian Basis Tensors\")\n",
    "plt.show()"
   ]
  },
  {
   "cell_type": "code",
   "execution_count": 16,
   "metadata": {},
   "outputs": [],
   "source": [
    "def tensorsize(tensor):\n",
    "    return tensor.element_size() * tensor.numel() / bytes_in_gb"
   ]
  },
  {
   "cell_type": "code",
   "execution_count": 17,
   "metadata": {},
   "outputs": [
    {
     "data": {
      "text/plain": [
       "2.980232238769531e-07"
      ]
     },
     "execution_count": 17,
     "metadata": {},
     "output_type": "execute_result"
    }
   ],
   "source": [
    "ham = Hamiltonians[9]\n",
    "tensorsize(ham.connections)"
   ]
  },
  {
   "cell_type": "code",
   "execution_count": 18,
   "metadata": {},
   "outputs": [
    {
     "data": {
      "text/plain": [
       "tensor([[ 0,  1],\n",
       "        [ 1,  2],\n",
       "        [ 2,  3],\n",
       "        [ 3,  4],\n",
       "        [ 4,  5],\n",
       "        [ 5,  6],\n",
       "        [ 6,  7],\n",
       "        [ 7,  8],\n",
       "        [ 8,  9],\n",
       "        [ 9, 10],\n",
       "        [10, 11],\n",
       "        [11, 12],\n",
       "        [12, 13],\n",
       "        [13, 14],\n",
       "        [14, 15],\n",
       "        [15, 16],\n",
       "        [16, 17],\n",
       "        [17, 18],\n",
       "        [18, 19],\n",
       "        [19,  0]], device='cuda:0')"
      ]
     },
     "execution_count": 18,
     "metadata": {},
     "output_type": "execute_result"
    }
   ],
   "source": [
    "ham.connections"
   ]
  },
  {
   "cell_type": "code",
   "execution_count": 19,
   "metadata": {},
   "outputs": [],
   "source": [
    "param_dim = Hamiltonians[0].param_dim\n",
    "embedding_size = 32\n",
    "n_head = 8\n",
    "n_hid = embedding_size\n",
    "n_layers = 8\n",
    "dropout = 0\n",
    "minibatch = 1000\n",
    "param_range = None\n",
    "point_of_interest = None\n",
    "use_SR = False"
   ]
  },
  {
   "cell_type": "code",
   "execution_count": 20,
   "metadata": {},
   "outputs": [
    {
     "name": "stderr",
     "output_type": "stream",
     "text": [
      "/home/spandan/anaconda3/envs/tqs2/lib/python3.12/site-packages/torch/utils/_device.py:78: UserWarning: To copy construct from a tensor, it is recommended to use sourceTensor.clone().detach() or sourceTensor.clone().detach().requires_grad_(True), rather than torch.tensor(sourceTensor).\n",
      "  return func(*args, **kwargs)\n",
      "/home/spandan/anaconda3/envs/tqs2/lib/python3.12/site-packages/torch/nn/modules/transformer.py:306: UserWarning: enable_nested_tensor is True, but self.use_nested_tensor is False because encoder_layer was not TransformerEncoderLayer\n",
      "  warnings.warn(f\"enable_nested_tensor is True, but self.use_nested_tensor is False because {why_not_sparsity_fast_path}\")\n"
     ]
    }
   ],
   "source": [
    "# Small allocation for model parameters, layers, etc.\n",
    "testmodel = TransformerModel(\n",
    "    system_sizes,\n",
    "    param_dim,\n",
    "    embedding_size,\n",
    "    n_head,\n",
    "    n_hid,\n",
    "    n_layers,\n",
    "    dropout=dropout,\n",
    "    minibatch=minibatch,\n",
    ")"
   ]
  },
  {
   "cell_type": "code",
   "execution_count": 21,
   "metadata": {},
   "outputs": [
    {
     "data": {
      "text/plain": [
       "TransformerModel(\n",
       "  (pos_encoder): TQSPositionalEncoding1D(\n",
       "    (dropout): Dropout(p=0, inplace=False)\n",
       "  )\n",
       "  (transformer_encoder): TransformerEncoder(\n",
       "    (layers): ModuleList(\n",
       "      (0-7): 8 x TransformerEncoderLayer(\n",
       "        (self_attn): MultiheadAttention(\n",
       "          (out_proj): Linear(in_features=32, out_features=32, bias=True)\n",
       "          (linear_Q): Linear(in_features=32, out_features=32, bias=True)\n",
       "          (linear_K): Linear(in_features=32, out_features=32, bias=True)\n",
       "          (linear_V): Linear(in_features=32, out_features=32, bias=True)\n",
       "        )\n",
       "        (linear1): Linear(in_features=32, out_features=32, bias=True)\n",
       "        (dropout): Dropout(p=0, inplace=False)\n",
       "        (linear2): Linear(in_features=32, out_features=32, bias=True)\n",
       "        (norm1): LayerNorm((32,), eps=1e-05, elementwise_affine=True)\n",
       "        (norm2): LayerNorm((32,), eps=1e-05, elementwise_affine=True)\n",
       "        (dropout1): Dropout(p=0, inplace=False)\n",
       "        (dropout2): Dropout(p=0, inplace=False)\n",
       "      )\n",
       "    )\n",
       "  )\n",
       "  (encoder): Linear(in_features=6, out_features=32, bias=True)\n",
       "  (amp_head): Linear(in_features=32, out_features=2, bias=True)\n",
       "  (phase_head): Linear(in_features=32, out_features=2, bias=True)\n",
       ")"
      ]
     },
     "execution_count": 21,
     "metadata": {},
     "output_type": "execute_result"
    }
   ],
   "source": [
    "testmodel.cuda()"
   ]
  },
  {
   "cell_type": "code",
   "execution_count": 22,
   "metadata": {},
   "outputs": [],
   "source": [
    "opt = Optimizer(testmodel, Hamiltonians, point_of_interest=point_of_interest)"
   ]
  },
  {
   "cell_type": "code",
   "execution_count": 23,
   "metadata": {},
   "outputs": [],
   "source": [
    "param_range = torch.tensor([[0.5, 1.5]])\n",
    "param_step = torch.tensor([0.01])"
   ]
  },
  {
   "cell_type": "code",
   "execution_count": 24,
   "metadata": {},
   "outputs": [],
   "source": [
    "pgen = opt.generate_parameter_points(param_range, param_step)"
   ]
  },
  {
   "cell_type": "code",
   "execution_count": 25,
   "metadata": {},
   "outputs": [
    {
     "name": "stdout",
     "output_type": "stream",
     "text": [
      "tensor([0.5000], device='cuda:0')\n",
      "tensor([0.5100], device='cuda:0')\n",
      "tensor([0.5200], device='cuda:0')\n",
      "tensor([0.5300], device='cuda:0')\n",
      "tensor([0.5400], device='cuda:0')\n",
      "tensor([0.5500], device='cuda:0')\n",
      "tensor([0.5600], device='cuda:0')\n",
      "tensor([0.5700], device='cuda:0')\n",
      "tensor([0.5800], device='cuda:0')\n",
      "tensor([0.5900], device='cuda:0')\n",
      "tensor([0.6000], device='cuda:0')\n",
      "tensor([0.6100], device='cuda:0')\n",
      "tensor([0.6200], device='cuda:0')\n",
      "tensor([0.6300], device='cuda:0')\n",
      "tensor([0.6400], device='cuda:0')\n",
      "tensor([0.6500], device='cuda:0')\n",
      "tensor([0.6600], device='cuda:0')\n",
      "tensor([0.6700], device='cuda:0')\n",
      "tensor([0.6800], device='cuda:0')\n",
      "tensor([0.6900], device='cuda:0')\n",
      "tensor([0.7000], device='cuda:0')\n",
      "tensor([0.7100], device='cuda:0')\n",
      "tensor([0.7200], device='cuda:0')\n",
      "tensor([0.7300], device='cuda:0')\n",
      "tensor([0.7400], device='cuda:0')\n",
      "tensor([0.7500], device='cuda:0')\n",
      "tensor([0.7600], device='cuda:0')\n",
      "tensor([0.7700], device='cuda:0')\n",
      "tensor([0.7800], device='cuda:0')\n",
      "tensor([0.7900], device='cuda:0')\n",
      "tensor([0.8000], device='cuda:0')\n",
      "tensor([0.8100], device='cuda:0')\n",
      "tensor([0.8200], device='cuda:0')\n",
      "tensor([0.8300], device='cuda:0')\n",
      "tensor([0.8400], device='cuda:0')\n",
      "tensor([0.8500], device='cuda:0')\n",
      "tensor([0.8600], device='cuda:0')\n",
      "tensor([0.8700], device='cuda:0')\n",
      "tensor([0.8800], device='cuda:0')\n",
      "tensor([0.8900], device='cuda:0')\n",
      "tensor([0.9000], device='cuda:0')\n",
      "tensor([0.9100], device='cuda:0')\n",
      "tensor([0.9200], device='cuda:0')\n",
      "tensor([0.9300], device='cuda:0')\n",
      "tensor([0.9400], device='cuda:0')\n",
      "tensor([0.9500], device='cuda:0')\n",
      "tensor([0.9600], device='cuda:0')\n",
      "tensor([0.9700], device='cuda:0')\n",
      "tensor([0.9800], device='cuda:0')\n",
      "tensor([0.9900], device='cuda:0')\n",
      "tensor([1.], device='cuda:0')\n",
      "tensor([1.0100], device='cuda:0')\n",
      "tensor([1.0200], device='cuda:0')\n",
      "tensor([1.0300], device='cuda:0')\n",
      "tensor([1.0400], device='cuda:0')\n",
      "tensor([1.0500], device='cuda:0')\n",
      "tensor([1.0600], device='cuda:0')\n",
      "tensor([1.0700], device='cuda:0')\n",
      "tensor([1.0800], device='cuda:0')\n",
      "tensor([1.0900], device='cuda:0')\n",
      "tensor([1.1000], device='cuda:0')\n",
      "tensor([1.1100], device='cuda:0')\n",
      "tensor([1.1200], device='cuda:0')\n",
      "tensor([1.1300], device='cuda:0')\n",
      "tensor([1.1400], device='cuda:0')\n",
      "tensor([1.1500], device='cuda:0')\n",
      "tensor([1.1600], device='cuda:0')\n",
      "tensor([1.1700], device='cuda:0')\n",
      "tensor([1.1800], device='cuda:0')\n",
      "tensor([1.1900], device='cuda:0')\n",
      "tensor([1.2000], device='cuda:0')\n",
      "tensor([1.2100], device='cuda:0')\n",
      "tensor([1.2200], device='cuda:0')\n",
      "tensor([1.2300], device='cuda:0')\n",
      "tensor([1.2400], device='cuda:0')\n",
      "tensor([1.2500], device='cuda:0')\n",
      "tensor([1.2600], device='cuda:0')\n",
      "tensor([1.2700], device='cuda:0')\n",
      "tensor([1.2800], device='cuda:0')\n",
      "tensor([1.2900], device='cuda:0')\n",
      "tensor([1.3000], device='cuda:0')\n",
      "tensor([1.3100], device='cuda:0')\n",
      "tensor([1.3200], device='cuda:0')\n",
      "tensor([1.3300], device='cuda:0')\n",
      "tensor([1.3400], device='cuda:0')\n",
      "tensor([1.3500], device='cuda:0')\n",
      "tensor([1.3600], device='cuda:0')\n",
      "tensor([1.3700], device='cuda:0')\n",
      "tensor([1.3800], device='cuda:0')\n",
      "tensor([1.3900], device='cuda:0')\n",
      "tensor([1.4000], device='cuda:0')\n",
      "tensor([1.4100], device='cuda:0')\n",
      "tensor([1.4200], device='cuda:0')\n",
      "tensor([1.4300], device='cuda:0')\n",
      "tensor([1.4400], device='cuda:0')\n",
      "tensor([1.4500], device='cuda:0')\n",
      "tensor([1.4600], device='cuda:0')\n",
      "tensor([1.4700], device='cuda:0')\n",
      "tensor([1.4800], device='cuda:0')\n",
      "tensor([1.4900], device='cuda:0')\n",
      "tensor([1.5000], device='cuda:0')\n"
     ]
    }
   ],
   "source": [
    "for point in pgen:\n",
    "    pointtens = torch.tensor(point, device=\"cuda\")\n",
    "    print(pointtens)"
   ]
  },
  {
   "cell_type": "code",
   "execution_count": 26,
   "metadata": {},
   "outputs": [
    {
     "data": {
      "text/plain": [
       "0.20179128646850586"
      ]
     },
     "execution_count": 26,
     "metadata": {},
     "output_type": "execute_result"
    }
   ],
   "source": [
    "torch.cuda.memory_allocated() / bytes_in_gb"
   ]
  },
  {
   "cell_type": "code",
   "execution_count": 27,
   "metadata": {},
   "outputs": [],
   "source": [
    "epochs = 100"
   ]
  },
  {
   "cell_type": "code",
   "execution_count": null,
   "metadata": {},
   "outputs": [],
   "source": []
  },
  {
   "cell_type": "code",
   "execution_count": 28,
   "metadata": {},
   "outputs": [],
   "source": [
    "import cProfile"
   ]
  },
  {
   "cell_type": "code",
   "execution_count": 29,
   "metadata": {},
   "outputs": [
    {
     "name": "stdout",
     "output_type": "stream",
     "text": [
      "Ran forward for tensor([2]) spins at point (0.5,)\n",
      "Ran forward for tensor([2]) spins at point (0.5099999997764826,)\n",
      "Ran forward for tensor([2]) spins at point (0.5199999995529652,)\n",
      "Ran forward for tensor([2]) spins at point (0.5299999993294477,)\n",
      "Ran forward for tensor([2]) spins at point (0.5399999991059303,)\n",
      "Ran forward for tensor([2]) spins at point (0.5499999988824129,)\n",
      "Ran forward for tensor([2]) spins at point (0.5599999986588955,)\n",
      "Ran forward for tensor([2]) spins at point (0.5699999984353781,)\n",
      "Ran forward for tensor([2]) spins at point (0.5799999982118607,)\n",
      "Ran forward for tensor([2]) spins at point (0.5899999979883432,)\n",
      "Ran forward for tensor([2]) spins at point (0.5999999977648258,)\n",
      "Ran forward for tensor([2]) spins at point (0.6099999975413084,)\n",
      "Ran forward for tensor([2]) spins at point (0.619999997317791,)\n",
      "Ran forward for tensor([2]) spins at point (0.6299999970942736,)\n",
      "Ran forward for tensor([2]) spins at point (0.6399999968707561,)\n",
      "Ran forward for tensor([2]) spins at point (0.6499999966472387,)\n",
      "Ran forward for tensor([2]) spins at point (0.6599999964237213,)\n",
      "Ran forward for tensor([2]) spins at point (0.6699999962002039,)\n",
      "Ran forward for tensor([2]) spins at point (0.6799999959766865,)\n",
      "Ran forward for tensor([2]) spins at point (0.6899999957531691,)\n",
      "Ran forward for tensor([2]) spins at point (0.6999999955296516,)\n",
      "Ran forward for tensor([2]) spins at point (0.7099999953061342,)\n",
      "Ran forward for tensor([2]) spins at point (0.7199999950826168,)\n",
      "Ran forward for tensor([2]) spins at point (0.7299999948590994,)\n",
      "Ran forward for tensor([2]) spins at point (0.739999994635582,)\n",
      "Ran forward for tensor([2]) spins at point (0.7499999944120646,)\n",
      "Ran forward for tensor([2]) spins at point (0.7599999941885471,)\n",
      "Ran forward for tensor([2]) spins at point (0.7699999939650297,)\n",
      "Ran forward for tensor([2]) spins at point (0.7799999937415123,)\n",
      "Ran forward for tensor([2]) spins at point (0.7899999935179949,)\n",
      "Ran forward for tensor([2]) spins at point (0.7999999932944775,)\n",
      "Ran forward for tensor([2]) spins at point (0.80999999307096,)\n",
      "Ran forward for tensor([2]) spins at point (0.8199999928474426,)\n",
      "Ran forward for tensor([2]) spins at point (0.8299999926239252,)\n",
      "Ran forward for tensor([2]) spins at point (0.8399999924004078,)\n",
      "Ran forward for tensor([2]) spins at point (0.8499999921768904,)\n",
      "Ran forward for tensor([2]) spins at point (0.859999991953373,)\n",
      "Ran forward for tensor([2]) spins at point (0.8699999917298555,)\n",
      "Ran forward for tensor([2]) spins at point (0.8799999915063381,)\n",
      "Ran forward for tensor([2]) spins at point (0.8899999912828207,)\n",
      "Ran forward for tensor([2]) spins at point (0.8999999910593033,)\n",
      "Ran forward for tensor([2]) spins at point (0.9099999908357859,)\n",
      "Ran forward for tensor([2]) spins at point (0.9199999906122684,)\n",
      "Ran forward for tensor([2]) spins at point (0.929999990388751,)\n",
      "Ran forward for tensor([2]) spins at point (0.9399999901652336,)\n",
      "Ran forward for tensor([2]) spins at point (0.9499999899417162,)\n",
      "Ran forward for tensor([2]) spins at point (0.9599999897181988,)\n",
      "Ran forward for tensor([2]) spins at point (0.9699999894946814,)\n",
      "Ran forward for tensor([2]) spins at point (0.9799999892711639,)\n",
      "Ran forward for tensor([2]) spins at point (0.9899999890476465,)\n",
      "Ran forward for tensor([2]) spins at point (0.9999999888241291,)\n",
      "Ran forward for tensor([2]) spins at point (1.0099999886006117,)\n",
      "Ran forward for tensor([2]) spins at point (1.0199999883770943,)\n",
      "Ran forward for tensor([2]) spins at point (1.0299999881535769,)\n",
      "Ran forward for tensor([2]) spins at point (1.0399999879300594,)\n",
      "Ran forward for tensor([2]) spins at point (1.049999987706542,)\n",
      "Ran forward for tensor([2]) spins at point (1.0599999874830246,)\n",
      "Ran forward for tensor([2]) spins at point (1.0699999872595072,)\n",
      "Ran forward for tensor([2]) spins at point (1.0799999870359898,)\n",
      "Ran forward for tensor([2]) spins at point (1.0899999868124723,)\n",
      "Ran forward for tensor([2]) spins at point (1.099999986588955,)\n",
      "Ran forward for tensor([2]) spins at point (1.1099999863654375,)\n",
      "Ran forward for tensor([2]) spins at point (1.11999998614192,)\n",
      "Ran forward for tensor([2]) spins at point (1.1299999859184027,)\n",
      "Ran forward for tensor([2]) spins at point (1.1399999856948853,)\n",
      "Ran forward for tensor([2]) spins at point (1.1499999854713678,)\n",
      "Ran forward for tensor([2]) spins at point (1.1599999852478504,)\n",
      "Ran forward for tensor([2]) spins at point (1.169999985024333,)\n",
      "Ran forward for tensor([2]) spins at point (1.1799999848008156,)\n",
      "Ran forward for tensor([2]) spins at point (1.1899999845772982,)\n",
      "Ran forward for tensor([2]) spins at point (1.1999999843537807,)\n",
      "Ran forward for tensor([2]) spins at point (1.2099999841302633,)\n",
      "Ran forward for tensor([2]) spins at point (1.219999983906746,)\n",
      "Ran forward for tensor([2]) spins at point (1.2299999836832285,)\n",
      "Ran forward for tensor([2]) spins at point (1.239999983459711,)\n",
      "Ran forward for tensor([2]) spins at point (1.2499999832361937,)\n",
      "Ran forward for tensor([2]) spins at point (1.2599999830126762,)\n",
      "Ran forward for tensor([2]) spins at point (1.2699999827891588,)\n",
      "Ran forward for tensor([2]) spins at point (1.2799999825656414,)\n",
      "Ran forward for tensor([2]) spins at point (1.289999982342124,)\n",
      "Ran forward for tensor([2]) spins at point (1.2999999821186066,)\n",
      "Ran forward for tensor([2]) spins at point (1.3099999818950891,)\n",
      "Ran forward for tensor([2]) spins at point (1.3199999816715717,)\n",
      "Ran forward for tensor([2]) spins at point (1.3299999814480543,)\n",
      "Ran forward for tensor([2]) spins at point (1.339999981224537,)\n",
      "Ran forward for tensor([2]) spins at point (1.3499999810010195,)\n",
      "Ran forward for tensor([2]) spins at point (1.359999980777502,)\n",
      "Ran forward for tensor([2]) spins at point (1.3699999805539846,)\n",
      "Ran forward for tensor([2]) spins at point (1.3799999803304672,)\n",
      "Ran forward for tensor([2]) spins at point (1.3899999801069498,)\n",
      "Ran forward for tensor([2]) spins at point (1.3999999798834324,)\n",
      "Ran forward for tensor([2]) spins at point (1.409999979659915,)\n",
      "Ran forward for tensor([2]) spins at point (1.4199999794363976,)\n",
      "Ran forward for tensor([2]) spins at point (1.4299999792128801,)\n",
      "Ran forward for tensor([2]) spins at point (1.4399999789893627,)\n",
      "Ran forward for tensor([2]) spins at point (1.4499999787658453,)\n",
      "Ran forward for tensor([2]) spins at point (1.4599999785423279,)\n",
      "Ran forward for tensor([2]) spins at point (1.4699999783188105,)\n",
      "Ran forward for tensor([2]) spins at point (1.479999978095293,)\n",
      "Ran forward for tensor([2]) spins at point (1.4899999778717756,)\n",
      "Ran forward for tensor([2]) spins at point (1.4999999776482582,)\n",
      "Ran forward for tensor([4]) spins at point (0.5,)\n",
      "Ran forward for tensor([4]) spins at point (0.5099999997764826,)\n",
      "Ran forward for tensor([4]) spins at point (0.5199999995529652,)\n",
      "Ran forward for tensor([4]) spins at point (0.5299999993294477,)\n",
      "Ran forward for tensor([4]) spins at point (0.5399999991059303,)\n",
      "Ran forward for tensor([4]) spins at point (0.5499999988824129,)\n",
      "Ran forward for tensor([4]) spins at point (0.5599999986588955,)\n",
      "Ran forward for tensor([4]) spins at point (0.5699999984353781,)\n",
      "Ran forward for tensor([4]) spins at point (0.5799999982118607,)\n",
      "Ran forward for tensor([4]) spins at point (0.5899999979883432,)\n",
      "Ran forward for tensor([4]) spins at point (0.5999999977648258,)\n",
      "Ran forward for tensor([4]) spins at point (0.6099999975413084,)\n",
      "Ran forward for tensor([4]) spins at point (0.619999997317791,)\n",
      "Ran forward for tensor([4]) spins at point (0.6299999970942736,)\n",
      "Ran forward for tensor([4]) spins at point (0.6399999968707561,)\n",
      "Ran forward for tensor([4]) spins at point (0.6499999966472387,)\n",
      "Ran forward for tensor([4]) spins at point (0.6599999964237213,)\n",
      "Ran forward for tensor([4]) spins at point (0.6699999962002039,)\n",
      "Ran forward for tensor([4]) spins at point (0.6799999959766865,)\n",
      "Ran forward for tensor([4]) spins at point (0.6899999957531691,)\n",
      "Ran forward for tensor([4]) spins at point (0.6999999955296516,)\n",
      "Ran forward for tensor([4]) spins at point (0.7099999953061342,)\n",
      "Ran forward for tensor([4]) spins at point (0.7199999950826168,)\n",
      "Ran forward for tensor([4]) spins at point (0.7299999948590994,)\n",
      "Ran forward for tensor([4]) spins at point (0.739999994635582,)\n",
      "Ran forward for tensor([4]) spins at point (0.7499999944120646,)\n",
      "Ran forward for tensor([4]) spins at point (0.7599999941885471,)\n",
      "Ran forward for tensor([4]) spins at point (0.7699999939650297,)\n",
      "Ran forward for tensor([4]) spins at point (0.7799999937415123,)\n",
      "Ran forward for tensor([4]) spins at point (0.7899999935179949,)\n",
      "Ran forward for tensor([4]) spins at point (0.7999999932944775,)\n",
      "Ran forward for tensor([4]) spins at point (0.80999999307096,)\n",
      "Ran forward for tensor([4]) spins at point (0.8199999928474426,)\n",
      "Ran forward for tensor([4]) spins at point (0.8299999926239252,)\n",
      "Ran forward for tensor([4]) spins at point (0.8399999924004078,)\n",
      "Ran forward for tensor([4]) spins at point (0.8499999921768904,)\n",
      "Ran forward for tensor([4]) spins at point (0.859999991953373,)\n",
      "Ran forward for tensor([4]) spins at point (0.8699999917298555,)\n",
      "Ran forward for tensor([4]) spins at point (0.8799999915063381,)\n",
      "Ran forward for tensor([4]) spins at point (0.8899999912828207,)\n",
      "Ran forward for tensor([4]) spins at point (0.8999999910593033,)\n",
      "Ran forward for tensor([4]) spins at point (0.9099999908357859,)\n",
      "Ran forward for tensor([4]) spins at point (0.9199999906122684,)\n",
      "Ran forward for tensor([4]) spins at point (0.929999990388751,)\n",
      "Ran forward for tensor([4]) spins at point (0.9399999901652336,)\n",
      "Ran forward for tensor([4]) spins at point (0.9499999899417162,)\n",
      "Ran forward for tensor([4]) spins at point (0.9599999897181988,)\n",
      "Ran forward for tensor([4]) spins at point (0.9699999894946814,)\n",
      "Ran forward for tensor([4]) spins at point (0.9799999892711639,)\n",
      "Ran forward for tensor([4]) spins at point (0.9899999890476465,)\n",
      "Ran forward for tensor([4]) spins at point (0.9999999888241291,)\n",
      "Ran forward for tensor([4]) spins at point (1.0099999886006117,)\n",
      "Ran forward for tensor([4]) spins at point (1.0199999883770943,)\n",
      "Ran forward for tensor([4]) spins at point (1.0299999881535769,)\n",
      "Ran forward for tensor([4]) spins at point (1.0399999879300594,)\n",
      "Ran forward for tensor([4]) spins at point (1.049999987706542,)\n",
      "Ran forward for tensor([4]) spins at point (1.0599999874830246,)\n",
      "Ran forward for tensor([4]) spins at point (1.0699999872595072,)\n",
      "Ran forward for tensor([4]) spins at point (1.0799999870359898,)\n",
      "Ran forward for tensor([4]) spins at point (1.0899999868124723,)\n",
      "Ran forward for tensor([4]) spins at point (1.099999986588955,)\n",
      "Ran forward for tensor([4]) spins at point (1.1099999863654375,)\n",
      "Ran forward for tensor([4]) spins at point (1.11999998614192,)\n",
      "Ran forward for tensor([4]) spins at point (1.1299999859184027,)\n",
      "Ran forward for tensor([4]) spins at point (1.1399999856948853,)\n",
      "Ran forward for tensor([4]) spins at point (1.1499999854713678,)\n",
      "Ran forward for tensor([4]) spins at point (1.1599999852478504,)\n",
      "Ran forward for tensor([4]) spins at point (1.169999985024333,)\n",
      "Ran forward for tensor([4]) spins at point (1.1799999848008156,)\n",
      "Ran forward for tensor([4]) spins at point (1.1899999845772982,)\n",
      "Ran forward for tensor([4]) spins at point (1.1999999843537807,)\n",
      "Ran forward for tensor([4]) spins at point (1.2099999841302633,)\n",
      "Ran forward for tensor([4]) spins at point (1.219999983906746,)\n",
      "Ran forward for tensor([4]) spins at point (1.2299999836832285,)\n",
      "Ran forward for tensor([4]) spins at point (1.239999983459711,)\n",
      "Ran forward for tensor([4]) spins at point (1.2499999832361937,)\n",
      "Ran forward for tensor([4]) spins at point (1.2599999830126762,)\n",
      "Ran forward for tensor([4]) spins at point (1.2699999827891588,)\n",
      "Ran forward for tensor([4]) spins at point (1.2799999825656414,)\n",
      "Ran forward for tensor([4]) spins at point (1.289999982342124,)\n",
      "Ran forward for tensor([4]) spins at point (1.2999999821186066,)\n",
      "Ran forward for tensor([4]) spins at point (1.3099999818950891,)\n",
      "Ran forward for tensor([4]) spins at point (1.3199999816715717,)\n",
      "Ran forward for tensor([4]) spins at point (1.3299999814480543,)\n",
      "Ran forward for tensor([4]) spins at point (1.339999981224537,)\n",
      "Ran forward for tensor([4]) spins at point (1.3499999810010195,)\n",
      "Ran forward for tensor([4]) spins at point (1.359999980777502,)\n",
      "Ran forward for tensor([4]) spins at point (1.3699999805539846,)\n",
      "Ran forward for tensor([4]) spins at point (1.3799999803304672,)\n",
      "Ran forward for tensor([4]) spins at point (1.3899999801069498,)\n",
      "Ran forward for tensor([4]) spins at point (1.3999999798834324,)\n",
      "Ran forward for tensor([4]) spins at point (1.409999979659915,)\n",
      "Ran forward for tensor([4]) spins at point (1.4199999794363976,)\n",
      "Ran forward for tensor([4]) spins at point (1.4299999792128801,)\n",
      "Ran forward for tensor([4]) spins at point (1.4399999789893627,)\n",
      "Ran forward for tensor([4]) spins at point (1.4499999787658453,)\n",
      "Ran forward for tensor([4]) spins at point (1.4599999785423279,)\n",
      "Ran forward for tensor([4]) spins at point (1.4699999783188105,)\n",
      "Ran forward for tensor([4]) spins at point (1.479999978095293,)\n",
      "Ran forward for tensor([4]) spins at point (1.4899999778717756,)\n",
      "Ran forward for tensor([4]) spins at point (1.4999999776482582,)\n",
      "Ran forward for tensor([6]) spins at point (0.5,)\n",
      "Ran forward for tensor([6]) spins at point (0.5099999997764826,)\n",
      "Ran forward for tensor([6]) spins at point (0.5199999995529652,)\n",
      "Ran forward for tensor([6]) spins at point (0.5299999993294477,)\n",
      "Ran forward for tensor([6]) spins at point (0.5399999991059303,)\n",
      "Ran forward for tensor([6]) spins at point (0.5499999988824129,)\n",
      "Ran forward for tensor([6]) spins at point (0.5599999986588955,)\n",
      "Ran forward for tensor([6]) spins at point (0.5699999984353781,)\n",
      "Ran forward for tensor([6]) spins at point (0.5799999982118607,)\n",
      "Ran forward for tensor([6]) spins at point (0.5899999979883432,)\n",
      "Ran forward for tensor([6]) spins at point (0.5999999977648258,)\n",
      "Ran forward for tensor([6]) spins at point (0.6099999975413084,)\n",
      "Ran forward for tensor([6]) spins at point (0.619999997317791,)\n",
      "Ran forward for tensor([6]) spins at point (0.6299999970942736,)\n",
      "Ran forward for tensor([6]) spins at point (0.6399999968707561,)\n",
      "Ran forward for tensor([6]) spins at point (0.6499999966472387,)\n",
      "Ran forward for tensor([6]) spins at point (0.6599999964237213,)\n",
      "Ran forward for tensor([6]) spins at point (0.6699999962002039,)\n",
      "Ran forward for tensor([6]) spins at point (0.6799999959766865,)\n",
      "Ran forward for tensor([6]) spins at point (0.6899999957531691,)\n",
      "Ran forward for tensor([6]) spins at point (0.6999999955296516,)\n",
      "Ran forward for tensor([6]) spins at point (0.7099999953061342,)\n",
      "Ran forward for tensor([6]) spins at point (0.7199999950826168,)\n",
      "Ran forward for tensor([6]) spins at point (0.7299999948590994,)\n",
      "Ran forward for tensor([6]) spins at point (0.739999994635582,)\n",
      "Ran forward for tensor([6]) spins at point (0.7499999944120646,)\n",
      "Ran forward for tensor([6]) spins at point (0.7599999941885471,)\n",
      "Ran forward for tensor([6]) spins at point (0.7699999939650297,)\n",
      "Ran forward for tensor([6]) spins at point (0.7799999937415123,)\n",
      "Ran forward for tensor([6]) spins at point (0.7899999935179949,)\n",
      "Ran forward for tensor([6]) spins at point (0.7999999932944775,)\n",
      "Ran forward for tensor([6]) spins at point (0.80999999307096,)\n",
      "Ran forward for tensor([6]) spins at point (0.8199999928474426,)\n",
      "Ran forward for tensor([6]) spins at point (0.8299999926239252,)\n",
      "Ran forward for tensor([6]) spins at point (0.8399999924004078,)\n",
      "Ran forward for tensor([6]) spins at point (0.8499999921768904,)\n",
      "Ran forward for tensor([6]) spins at point (0.859999991953373,)\n",
      "Ran forward for tensor([6]) spins at point (0.8699999917298555,)\n",
      "Ran forward for tensor([6]) spins at point (0.8799999915063381,)\n",
      "Ran forward for tensor([6]) spins at point (0.8899999912828207,)\n",
      "Ran forward for tensor([6]) spins at point (0.8999999910593033,)\n",
      "Ran forward for tensor([6]) spins at point (0.9099999908357859,)\n"
     ]
    },
    {
     "name": "stderr",
     "output_type": "stream",
     "text": [
      "/home/spandan/Projects/tqs/model.py:228: SyntaxWarning: invalid escape sequence '\\p'\n",
      "  \"\"\"\n"
     ]
    },
    {
     "ename": "KeyboardInterrupt",
     "evalue": "",
     "output_type": "error",
     "traceback": [
      "\u001b[0;31m---------------------------------------------------------------------------\u001b[0m",
      "\u001b[0;31mKeyboardInterrupt\u001b[0m                         Traceback (most recent call last)",
      "Cell \u001b[0;32mIn[29], line 2\u001b[0m\n\u001b[1;32m      1\u001b[0m \u001b[38;5;28;01mwith\u001b[39;00m cProfile\u001b[38;5;241m.\u001b[39mProfile() \u001b[38;5;28;01mas\u001b[39;00m pr:\n\u001b[0;32m----> 2\u001b[0m     opt\u001b[38;5;241m.\u001b[39mtrain(\n\u001b[1;32m      3\u001b[0m         epochs\u001b[38;5;241m=\u001b[39mepochs, param_range\u001b[38;5;241m=\u001b[39mparam_range, param_step\u001b[38;5;241m=\u001b[39mparam_step, start_iter\u001b[38;5;241m=\u001b[39m\u001b[38;5;241m0\u001b[39m\n\u001b[1;32m      4\u001b[0m     )\n",
      "File \u001b[0;32m~/Projects/tqs/optimizer_supervised.py:315\u001b[0m, in \u001b[0;36mOptimizer.train\u001b[0;34m(self, epochs, param_range, param_step, ensemble_id, start_iter)\u001b[0m\n\u001b[1;32m    309\u001b[0m loss \u001b[38;5;241m=\u001b[39m torch\u001b[38;5;241m.\u001b[39mtensor([\u001b[38;5;241m-\u001b[39m\u001b[38;5;241m1\u001b[39m])\n\u001b[1;32m    311\u001b[0m \u001b[38;5;66;03m# NOTE: the system size is constant for this inner loop but must be reset\u001b[39;00m\n\u001b[1;32m    312\u001b[0m \u001b[38;5;66;03m# here because leaving it out (or, equivalently, setting it to None) would\u001b[39;00m\n\u001b[1;32m    313\u001b[0m \u001b[38;5;66;03m# cause the model to sample a random system size. See set_param in model.py.\u001b[39;00m\n\u001b[0;32m--> 315\u001b[0m dummy_res \u001b[38;5;241m=\u001b[39m \u001b[38;5;28mself\u001b[39m\u001b[38;5;241m.\u001b[39mmodel\u001b[38;5;241m.\u001b[39mforward(H\u001b[38;5;241m.\u001b[39mbasis, compute_phase\u001b[38;5;241m=\u001b[39m\u001b[38;5;28;01mTrue\u001b[39;00m)\n\u001b[1;32m    316\u001b[0m \u001b[38;5;28mprint\u001b[39m(\u001b[38;5;124mf\u001b[39m\u001b[38;5;124m\"\u001b[39m\u001b[38;5;124mRan forward for \u001b[39m\u001b[38;5;132;01m{\u001b[39;00msystem_size\u001b[38;5;132;01m}\u001b[39;00m\u001b[38;5;124m spins at point \u001b[39m\u001b[38;5;132;01m{\u001b[39;00mpoint\u001b[38;5;132;01m}\u001b[39;00m\u001b[38;5;124m\"\u001b[39m)\n\u001b[1;32m    318\u001b[0m \u001b[38;5;66;03m# loss = self.calculate_mse_step(\u001b[39;00m\n\u001b[1;32m    319\u001b[0m \u001b[38;5;66;03m#     H, param, basis_batch=None, use_symmetry=True\u001b[39;00m\n\u001b[1;32m    320\u001b[0m \u001b[38;5;66;03m# )\u001b[39;00m\n",
      "File \u001b[0;32m~/Projects/tqs/model.py:309\u001b[0m, in \u001b[0;36mTransformerModel.forward\u001b[0;34m(self, spins, compute_phase)\u001b[0m\n\u001b[1;32m    307\u001b[0m \u001b[38;5;66;03m# src_i = src_i + self.pos_embedding[:len(src_i)]  # (seq, batch, embedding)\u001b[39;00m\n\u001b[1;32m    308\u001b[0m src_i \u001b[38;5;241m=\u001b[39m \u001b[38;5;28mself\u001b[39m\u001b[38;5;241m.\u001b[39mpos_encoder(src_i, system_size)  \u001b[38;5;66;03m# (seq, batch, embedding)\u001b[39;00m\n\u001b[0;32m--> 309\u001b[0m output_i \u001b[38;5;241m=\u001b[39m \u001b[38;5;28mself\u001b[39m\u001b[38;5;241m.\u001b[39mtransformer_encoder(\n\u001b[1;32m    310\u001b[0m     src_i, \u001b[38;5;28mself\u001b[39m\u001b[38;5;241m.\u001b[39msrc_mask\n\u001b[1;32m    311\u001b[0m )  \u001b[38;5;66;03m# (seq, batch, embedding)\u001b[39;00m\n\u001b[1;32m    312\u001b[0m psi_output \u001b[38;5;241m=\u001b[39m output_i[\n\u001b[1;32m    313\u001b[0m     \u001b[38;5;28mself\u001b[39m\u001b[38;5;241m.\u001b[39mseq_prefix_len \u001b[38;5;241m-\u001b[39m \u001b[38;5;241m1\u001b[39m :\n\u001b[1;32m    314\u001b[0m ]  \u001b[38;5;66;03m# only use the physical degrees of freedom\u001b[39;00m\n\u001b[1;32m    315\u001b[0m amp_i \u001b[38;5;241m=\u001b[39m F\u001b[38;5;241m.\u001b[39mlog_softmax(\n\u001b[1;32m    316\u001b[0m     \u001b[38;5;28mself\u001b[39m\u001b[38;5;241m.\u001b[39mamp_head(psi_output), dim\u001b[38;5;241m=\u001b[39m\u001b[38;5;241m-\u001b[39m\u001b[38;5;241m1\u001b[39m\n\u001b[1;32m    317\u001b[0m )  \u001b[38;5;66;03m# (seq, batch, phys_dim)\u001b[39;00m\n",
      "File \u001b[0;32m~/anaconda3/envs/tqs2/lib/python3.12/site-packages/torch/nn/modules/module.py:1532\u001b[0m, in \u001b[0;36mModule._wrapped_call_impl\u001b[0;34m(self, *args, **kwargs)\u001b[0m\n\u001b[1;32m   1530\u001b[0m     \u001b[38;5;28;01mreturn\u001b[39;00m \u001b[38;5;28mself\u001b[39m\u001b[38;5;241m.\u001b[39m_compiled_call_impl(\u001b[38;5;241m*\u001b[39margs, \u001b[38;5;241m*\u001b[39m\u001b[38;5;241m*\u001b[39mkwargs)  \u001b[38;5;66;03m# type: ignore[misc]\u001b[39;00m\n\u001b[1;32m   1531\u001b[0m \u001b[38;5;28;01melse\u001b[39;00m:\n\u001b[0;32m-> 1532\u001b[0m     \u001b[38;5;28;01mreturn\u001b[39;00m \u001b[38;5;28mself\u001b[39m\u001b[38;5;241m.\u001b[39m_call_impl(\u001b[38;5;241m*\u001b[39margs, \u001b[38;5;241m*\u001b[39m\u001b[38;5;241m*\u001b[39mkwargs)\n",
      "File \u001b[0;32m~/anaconda3/envs/tqs2/lib/python3.12/site-packages/torch/nn/modules/module.py:1541\u001b[0m, in \u001b[0;36mModule._call_impl\u001b[0;34m(self, *args, **kwargs)\u001b[0m\n\u001b[1;32m   1536\u001b[0m \u001b[38;5;66;03m# If we don't have any hooks, we want to skip the rest of the logic in\u001b[39;00m\n\u001b[1;32m   1537\u001b[0m \u001b[38;5;66;03m# this function, and just call forward.\u001b[39;00m\n\u001b[1;32m   1538\u001b[0m \u001b[38;5;28;01mif\u001b[39;00m \u001b[38;5;129;01mnot\u001b[39;00m (\u001b[38;5;28mself\u001b[39m\u001b[38;5;241m.\u001b[39m_backward_hooks \u001b[38;5;129;01mor\u001b[39;00m \u001b[38;5;28mself\u001b[39m\u001b[38;5;241m.\u001b[39m_backward_pre_hooks \u001b[38;5;129;01mor\u001b[39;00m \u001b[38;5;28mself\u001b[39m\u001b[38;5;241m.\u001b[39m_forward_hooks \u001b[38;5;129;01mor\u001b[39;00m \u001b[38;5;28mself\u001b[39m\u001b[38;5;241m.\u001b[39m_forward_pre_hooks\n\u001b[1;32m   1539\u001b[0m         \u001b[38;5;129;01mor\u001b[39;00m _global_backward_pre_hooks \u001b[38;5;129;01mor\u001b[39;00m _global_backward_hooks\n\u001b[1;32m   1540\u001b[0m         \u001b[38;5;129;01mor\u001b[39;00m _global_forward_hooks \u001b[38;5;129;01mor\u001b[39;00m _global_forward_pre_hooks):\n\u001b[0;32m-> 1541\u001b[0m     \u001b[38;5;28;01mreturn\u001b[39;00m forward_call(\u001b[38;5;241m*\u001b[39margs, \u001b[38;5;241m*\u001b[39m\u001b[38;5;241m*\u001b[39mkwargs)\n\u001b[1;32m   1543\u001b[0m \u001b[38;5;28;01mtry\u001b[39;00m:\n\u001b[1;32m   1544\u001b[0m     result \u001b[38;5;241m=\u001b[39m \u001b[38;5;28;01mNone\u001b[39;00m\n",
      "File \u001b[0;32m~/anaconda3/envs/tqs2/lib/python3.12/site-packages/torch/nn/modules/transformer.py:415\u001b[0m, in \u001b[0;36mTransformerEncoder.forward\u001b[0;34m(self, src, mask, src_key_padding_mask, is_causal)\u001b[0m\n\u001b[1;32m    412\u001b[0m is_causal \u001b[38;5;241m=\u001b[39m _detect_is_causal_mask(mask, is_causal, seq_len)\n\u001b[1;32m    414\u001b[0m \u001b[38;5;28;01mfor\u001b[39;00m mod \u001b[38;5;129;01min\u001b[39;00m \u001b[38;5;28mself\u001b[39m\u001b[38;5;241m.\u001b[39mlayers:\n\u001b[0;32m--> 415\u001b[0m     output \u001b[38;5;241m=\u001b[39m mod(output, src_mask\u001b[38;5;241m=\u001b[39mmask, is_causal\u001b[38;5;241m=\u001b[39mis_causal, src_key_padding_mask\u001b[38;5;241m=\u001b[39msrc_key_padding_mask_for_layers)\n\u001b[1;32m    417\u001b[0m \u001b[38;5;28;01mif\u001b[39;00m convert_to_nested:\n\u001b[1;32m    418\u001b[0m     output \u001b[38;5;241m=\u001b[39m output\u001b[38;5;241m.\u001b[39mto_padded_tensor(\u001b[38;5;241m0.\u001b[39m, src\u001b[38;5;241m.\u001b[39msize())\n",
      "File \u001b[0;32m~/anaconda3/envs/tqs2/lib/python3.12/site-packages/torch/nn/modules/module.py:1532\u001b[0m, in \u001b[0;36mModule._wrapped_call_impl\u001b[0;34m(self, *args, **kwargs)\u001b[0m\n\u001b[1;32m   1530\u001b[0m     \u001b[38;5;28;01mreturn\u001b[39;00m \u001b[38;5;28mself\u001b[39m\u001b[38;5;241m.\u001b[39m_compiled_call_impl(\u001b[38;5;241m*\u001b[39margs, \u001b[38;5;241m*\u001b[39m\u001b[38;5;241m*\u001b[39mkwargs)  \u001b[38;5;66;03m# type: ignore[misc]\u001b[39;00m\n\u001b[1;32m   1531\u001b[0m \u001b[38;5;28;01melse\u001b[39;00m:\n\u001b[0;32m-> 1532\u001b[0m     \u001b[38;5;28;01mreturn\u001b[39;00m \u001b[38;5;28mself\u001b[39m\u001b[38;5;241m.\u001b[39m_call_impl(\u001b[38;5;241m*\u001b[39margs, \u001b[38;5;241m*\u001b[39m\u001b[38;5;241m*\u001b[39mkwargs)\n",
      "File \u001b[0;32m~/anaconda3/envs/tqs2/lib/python3.12/site-packages/torch/nn/modules/module.py:1541\u001b[0m, in \u001b[0;36mModule._call_impl\u001b[0;34m(self, *args, **kwargs)\u001b[0m\n\u001b[1;32m   1536\u001b[0m \u001b[38;5;66;03m# If we don't have any hooks, we want to skip the rest of the logic in\u001b[39;00m\n\u001b[1;32m   1537\u001b[0m \u001b[38;5;66;03m# this function, and just call forward.\u001b[39;00m\n\u001b[1;32m   1538\u001b[0m \u001b[38;5;28;01mif\u001b[39;00m \u001b[38;5;129;01mnot\u001b[39;00m (\u001b[38;5;28mself\u001b[39m\u001b[38;5;241m.\u001b[39m_backward_hooks \u001b[38;5;129;01mor\u001b[39;00m \u001b[38;5;28mself\u001b[39m\u001b[38;5;241m.\u001b[39m_backward_pre_hooks \u001b[38;5;129;01mor\u001b[39;00m \u001b[38;5;28mself\u001b[39m\u001b[38;5;241m.\u001b[39m_forward_hooks \u001b[38;5;129;01mor\u001b[39;00m \u001b[38;5;28mself\u001b[39m\u001b[38;5;241m.\u001b[39m_forward_pre_hooks\n\u001b[1;32m   1539\u001b[0m         \u001b[38;5;129;01mor\u001b[39;00m _global_backward_pre_hooks \u001b[38;5;129;01mor\u001b[39;00m _global_backward_hooks\n\u001b[1;32m   1540\u001b[0m         \u001b[38;5;129;01mor\u001b[39;00m _global_forward_hooks \u001b[38;5;129;01mor\u001b[39;00m _global_forward_pre_hooks):\n\u001b[0;32m-> 1541\u001b[0m     \u001b[38;5;28;01mreturn\u001b[39;00m forward_call(\u001b[38;5;241m*\u001b[39margs, \u001b[38;5;241m*\u001b[39m\u001b[38;5;241m*\u001b[39mkwargs)\n\u001b[1;32m   1543\u001b[0m \u001b[38;5;28;01mtry\u001b[39;00m:\n\u001b[1;32m   1544\u001b[0m     result \u001b[38;5;241m=\u001b[39m \u001b[38;5;28;01mNone\u001b[39;00m\n",
      "File \u001b[0;32m~/Projects/tqs/custom_transformer_layer.py:119\u001b[0m, in \u001b[0;36mTransformerEncoderLayer.forward\u001b[0;34m(self, src, src_mask, src_key_padding_mask, **kwargs)\u001b[0m\n\u001b[1;32m    117\u001b[0m     x \u001b[38;5;241m=\u001b[39m x \u001b[38;5;241m+\u001b[39m \u001b[38;5;28mself\u001b[39m\u001b[38;5;241m.\u001b[39m_ff_block(\u001b[38;5;28mself\u001b[39m\u001b[38;5;241m.\u001b[39mnorm2(x))\n\u001b[1;32m    118\u001b[0m \u001b[38;5;28;01melse\u001b[39;00m:\n\u001b[0;32m--> 119\u001b[0m     x \u001b[38;5;241m=\u001b[39m \u001b[38;5;28mself\u001b[39m\u001b[38;5;241m.\u001b[39mnorm1(x \u001b[38;5;241m+\u001b[39m \u001b[38;5;28mself\u001b[39m\u001b[38;5;241m.\u001b[39m_sa_block(x, src_mask, src_key_padding_mask))\n\u001b[1;32m    120\u001b[0m     x \u001b[38;5;241m=\u001b[39m \u001b[38;5;28mself\u001b[39m\u001b[38;5;241m.\u001b[39mnorm2(x \u001b[38;5;241m+\u001b[39m \u001b[38;5;28mself\u001b[39m\u001b[38;5;241m.\u001b[39m_ff_block(x))\n\u001b[1;32m    122\u001b[0m \u001b[38;5;28;01mreturn\u001b[39;00m x\n",
      "File \u001b[0;32m~/Projects/tqs/custom_transformer_layer.py:128\u001b[0m, in \u001b[0;36mTransformerEncoderLayer._sa_block\u001b[0;34m(self, x, attn_mask, key_padding_mask)\u001b[0m\n\u001b[1;32m    125\u001b[0m \u001b[38;5;28;01mdef\u001b[39;00m \u001b[38;5;21m_sa_block\u001b[39m(\n\u001b[1;32m    126\u001b[0m     \u001b[38;5;28mself\u001b[39m, x: Tensor, attn_mask: Optional[Tensor], key_padding_mask: Optional[Tensor]\n\u001b[1;32m    127\u001b[0m ) \u001b[38;5;241m-\u001b[39m\u001b[38;5;241m>\u001b[39m Tensor:\n\u001b[0;32m--> 128\u001b[0m     x \u001b[38;5;241m=\u001b[39m \u001b[38;5;28mself\u001b[39m\u001b[38;5;241m.\u001b[39mself_attn(\n\u001b[1;32m    129\u001b[0m         x,\n\u001b[1;32m    130\u001b[0m         x,\n\u001b[1;32m    131\u001b[0m         x,\n\u001b[1;32m    132\u001b[0m         attn_mask\u001b[38;5;241m=\u001b[39mattn_mask,\n\u001b[1;32m    133\u001b[0m         key_padding_mask\u001b[38;5;241m=\u001b[39mkey_padding_mask,\n\u001b[1;32m    134\u001b[0m         need_weights\u001b[38;5;241m=\u001b[39m\u001b[38;5;28;01mFalse\u001b[39;00m,\n\u001b[1;32m    135\u001b[0m     )[\u001b[38;5;241m0\u001b[39m]\n\u001b[1;32m    136\u001b[0m     \u001b[38;5;28;01mreturn\u001b[39;00m \u001b[38;5;28mself\u001b[39m\u001b[38;5;241m.\u001b[39mdropout1(x)\n",
      "File \u001b[0;32m~/anaconda3/envs/tqs2/lib/python3.12/site-packages/torch/nn/modules/module.py:1532\u001b[0m, in \u001b[0;36mModule._wrapped_call_impl\u001b[0;34m(self, *args, **kwargs)\u001b[0m\n\u001b[1;32m   1530\u001b[0m     \u001b[38;5;28;01mreturn\u001b[39;00m \u001b[38;5;28mself\u001b[39m\u001b[38;5;241m.\u001b[39m_compiled_call_impl(\u001b[38;5;241m*\u001b[39margs, \u001b[38;5;241m*\u001b[39m\u001b[38;5;241m*\u001b[39mkwargs)  \u001b[38;5;66;03m# type: ignore[misc]\u001b[39;00m\n\u001b[1;32m   1531\u001b[0m \u001b[38;5;28;01melse\u001b[39;00m:\n\u001b[0;32m-> 1532\u001b[0m     \u001b[38;5;28;01mreturn\u001b[39;00m \u001b[38;5;28mself\u001b[39m\u001b[38;5;241m.\u001b[39m_call_impl(\u001b[38;5;241m*\u001b[39margs, \u001b[38;5;241m*\u001b[39m\u001b[38;5;241m*\u001b[39mkwargs)\n",
      "File \u001b[0;32m~/anaconda3/envs/tqs2/lib/python3.12/site-packages/torch/nn/modules/module.py:1541\u001b[0m, in \u001b[0;36mModule._call_impl\u001b[0;34m(self, *args, **kwargs)\u001b[0m\n\u001b[1;32m   1536\u001b[0m \u001b[38;5;66;03m# If we don't have any hooks, we want to skip the rest of the logic in\u001b[39;00m\n\u001b[1;32m   1537\u001b[0m \u001b[38;5;66;03m# this function, and just call forward.\u001b[39;00m\n\u001b[1;32m   1538\u001b[0m \u001b[38;5;28;01mif\u001b[39;00m \u001b[38;5;129;01mnot\u001b[39;00m (\u001b[38;5;28mself\u001b[39m\u001b[38;5;241m.\u001b[39m_backward_hooks \u001b[38;5;129;01mor\u001b[39;00m \u001b[38;5;28mself\u001b[39m\u001b[38;5;241m.\u001b[39m_backward_pre_hooks \u001b[38;5;129;01mor\u001b[39;00m \u001b[38;5;28mself\u001b[39m\u001b[38;5;241m.\u001b[39m_forward_hooks \u001b[38;5;129;01mor\u001b[39;00m \u001b[38;5;28mself\u001b[39m\u001b[38;5;241m.\u001b[39m_forward_pre_hooks\n\u001b[1;32m   1539\u001b[0m         \u001b[38;5;129;01mor\u001b[39;00m _global_backward_pre_hooks \u001b[38;5;129;01mor\u001b[39;00m _global_backward_hooks\n\u001b[1;32m   1540\u001b[0m         \u001b[38;5;129;01mor\u001b[39;00m _global_forward_hooks \u001b[38;5;129;01mor\u001b[39;00m _global_forward_pre_hooks):\n\u001b[0;32m-> 1541\u001b[0m     \u001b[38;5;28;01mreturn\u001b[39;00m forward_call(\u001b[38;5;241m*\u001b[39margs, \u001b[38;5;241m*\u001b[39m\u001b[38;5;241m*\u001b[39mkwargs)\n\u001b[1;32m   1543\u001b[0m \u001b[38;5;28;01mtry\u001b[39;00m:\n\u001b[1;32m   1544\u001b[0m     result \u001b[38;5;241m=\u001b[39m \u001b[38;5;28;01mNone\u001b[39;00m\n",
      "File \u001b[0;32m~/Projects/tqs/custom_modules.py:142\u001b[0m, in \u001b[0;36mMultiheadAttention.forward\u001b[0;34m(self, query, key, value, key_padding_mask, need_weights, attn_mask, average_attn_weights)\u001b[0m\n\u001b[1;32m     86\u001b[0m \u001b[38;5;28;01mdef\u001b[39;00m \u001b[38;5;21mforward\u001b[39m(\u001b[38;5;28mself\u001b[39m,\n\u001b[1;32m     87\u001b[0m             query: Tensor,\n\u001b[1;32m     88\u001b[0m             key: Tensor,\n\u001b[0;32m   (...)\u001b[0m\n\u001b[1;32m     92\u001b[0m             attn_mask: Optional[Tensor] \u001b[38;5;241m=\u001b[39m \u001b[38;5;28;01mNone\u001b[39;00m,\n\u001b[1;32m     93\u001b[0m             average_attn_weights: \u001b[38;5;28mbool\u001b[39m \u001b[38;5;241m=\u001b[39m \u001b[38;5;28;01mTrue\u001b[39;00m) \u001b[38;5;241m-\u001b[39m\u001b[38;5;241m>\u001b[39m Tuple[Tensor, Optional[Tensor]]:\n\u001b[1;32m     94\u001b[0m \u001b[38;5;250m    \u001b[39m\u001b[38;5;124mr\u001b[39m\u001b[38;5;124;03m\"\"\"\u001b[39;00m\n\u001b[1;32m     95\u001b[0m \u001b[38;5;124;03mNote::\u001b[39;00m\n\u001b[1;32m     96\u001b[0m \u001b[38;5;124;03m    Please, refer to :func:`~torch.nn.MultiheadAttention.forward` for more\u001b[39;00m\n\u001b[0;32m   (...)\u001b[0m\n\u001b[1;32m    140\u001b[0m \u001b[38;5;124;03m      head of shape :math:`(N, num_heads, L, S)`.\u001b[39;00m\n\u001b[1;32m    141\u001b[0m \u001b[38;5;124;03m    \"\"\"\u001b[39;00m\n\u001b[0;32m--> 142\u001b[0m     \u001b[38;5;28;01mreturn\u001b[39;00m \u001b[38;5;28mself\u001b[39m\u001b[38;5;241m.\u001b[39m_forward_impl(query, key, value, key_padding_mask,\n\u001b[1;32m    143\u001b[0m                               need_weights, attn_mask, average_attn_weights)\n",
      "File \u001b[0;32m~/Projects/tqs/custom_modules.py:174\u001b[0m, in \u001b[0;36mMultiheadAttention._forward_impl\u001b[0;34m(self, query, key, value, key_padding_mask, need_weights, attn_mask, average_attn_weights)\u001b[0m\n\u001b[1;32m    171\u001b[0m scaling \u001b[38;5;241m=\u001b[39m \u001b[38;5;28mfloat\u001b[39m(head_dim) \u001b[38;5;241m*\u001b[39m\u001b[38;5;241m*\u001b[39m \u001b[38;5;241m-\u001b[39m\u001b[38;5;241m0.5\u001b[39m\n\u001b[1;32m    173\u001b[0m q \u001b[38;5;241m=\u001b[39m \u001b[38;5;28mself\u001b[39m\u001b[38;5;241m.\u001b[39mlinear_Q(query)\n\u001b[0;32m--> 174\u001b[0m k \u001b[38;5;241m=\u001b[39m \u001b[38;5;28mself\u001b[39m\u001b[38;5;241m.\u001b[39mlinear_K(key)\n\u001b[1;32m    175\u001b[0m v \u001b[38;5;241m=\u001b[39m \u001b[38;5;28mself\u001b[39m\u001b[38;5;241m.\u001b[39mlinear_V(value)\n\u001b[1;32m    177\u001b[0m q \u001b[38;5;241m=\u001b[39m scaling \u001b[38;5;241m*\u001b[39m q\n",
      "File \u001b[0;32m~/anaconda3/envs/tqs2/lib/python3.12/site-packages/torch/nn/modules/module.py:1532\u001b[0m, in \u001b[0;36mModule._wrapped_call_impl\u001b[0;34m(self, *args, **kwargs)\u001b[0m\n\u001b[1;32m   1530\u001b[0m     \u001b[38;5;28;01mreturn\u001b[39;00m \u001b[38;5;28mself\u001b[39m\u001b[38;5;241m.\u001b[39m_compiled_call_impl(\u001b[38;5;241m*\u001b[39margs, \u001b[38;5;241m*\u001b[39m\u001b[38;5;241m*\u001b[39mkwargs)  \u001b[38;5;66;03m# type: ignore[misc]\u001b[39;00m\n\u001b[1;32m   1531\u001b[0m \u001b[38;5;28;01melse\u001b[39;00m:\n\u001b[0;32m-> 1532\u001b[0m     \u001b[38;5;28;01mreturn\u001b[39;00m \u001b[38;5;28mself\u001b[39m\u001b[38;5;241m.\u001b[39m_call_impl(\u001b[38;5;241m*\u001b[39margs, \u001b[38;5;241m*\u001b[39m\u001b[38;5;241m*\u001b[39mkwargs)\n",
      "File \u001b[0;32m~/anaconda3/envs/tqs2/lib/python3.12/site-packages/torch/nn/modules/module.py:1541\u001b[0m, in \u001b[0;36mModule._call_impl\u001b[0;34m(self, *args, **kwargs)\u001b[0m\n\u001b[1;32m   1536\u001b[0m \u001b[38;5;66;03m# If we don't have any hooks, we want to skip the rest of the logic in\u001b[39;00m\n\u001b[1;32m   1537\u001b[0m \u001b[38;5;66;03m# this function, and just call forward.\u001b[39;00m\n\u001b[1;32m   1538\u001b[0m \u001b[38;5;28;01mif\u001b[39;00m \u001b[38;5;129;01mnot\u001b[39;00m (\u001b[38;5;28mself\u001b[39m\u001b[38;5;241m.\u001b[39m_backward_hooks \u001b[38;5;129;01mor\u001b[39;00m \u001b[38;5;28mself\u001b[39m\u001b[38;5;241m.\u001b[39m_backward_pre_hooks \u001b[38;5;129;01mor\u001b[39;00m \u001b[38;5;28mself\u001b[39m\u001b[38;5;241m.\u001b[39m_forward_hooks \u001b[38;5;129;01mor\u001b[39;00m \u001b[38;5;28mself\u001b[39m\u001b[38;5;241m.\u001b[39m_forward_pre_hooks\n\u001b[1;32m   1539\u001b[0m         \u001b[38;5;129;01mor\u001b[39;00m _global_backward_pre_hooks \u001b[38;5;129;01mor\u001b[39;00m _global_backward_hooks\n\u001b[1;32m   1540\u001b[0m         \u001b[38;5;129;01mor\u001b[39;00m _global_forward_hooks \u001b[38;5;129;01mor\u001b[39;00m _global_forward_pre_hooks):\n\u001b[0;32m-> 1541\u001b[0m     \u001b[38;5;28;01mreturn\u001b[39;00m forward_call(\u001b[38;5;241m*\u001b[39margs, \u001b[38;5;241m*\u001b[39m\u001b[38;5;241m*\u001b[39mkwargs)\n\u001b[1;32m   1543\u001b[0m \u001b[38;5;28;01mtry\u001b[39;00m:\n\u001b[1;32m   1544\u001b[0m     result \u001b[38;5;241m=\u001b[39m \u001b[38;5;28;01mNone\u001b[39;00m\n",
      "File \u001b[0;32m~/anaconda3/envs/tqs2/lib/python3.12/site-packages/torch/nn/modules/linear.py:116\u001b[0m, in \u001b[0;36mLinear.forward\u001b[0;34m(self, input)\u001b[0m\n\u001b[1;32m    115\u001b[0m \u001b[38;5;28;01mdef\u001b[39;00m \u001b[38;5;21mforward\u001b[39m(\u001b[38;5;28mself\u001b[39m, \u001b[38;5;28minput\u001b[39m: Tensor) \u001b[38;5;241m-\u001b[39m\u001b[38;5;241m>\u001b[39m Tensor:\n\u001b[0;32m--> 116\u001b[0m     \u001b[38;5;28;01mreturn\u001b[39;00m F\u001b[38;5;241m.\u001b[39mlinear(\u001b[38;5;28minput\u001b[39m, \u001b[38;5;28mself\u001b[39m\u001b[38;5;241m.\u001b[39mweight, \u001b[38;5;28mself\u001b[39m\u001b[38;5;241m.\u001b[39mbias)\n",
      "File \u001b[0;32m~/anaconda3/envs/tqs2/lib/python3.12/site-packages/torch/utils/_device.py:78\u001b[0m, in \u001b[0;36mDeviceContext.__torch_function__\u001b[0;34m(self, func, types, args, kwargs)\u001b[0m\n\u001b[1;32m     76\u001b[0m \u001b[38;5;28;01mif\u001b[39;00m func \u001b[38;5;129;01min\u001b[39;00m _device_constructors() \u001b[38;5;129;01mand\u001b[39;00m kwargs\u001b[38;5;241m.\u001b[39mget(\u001b[38;5;124m'\u001b[39m\u001b[38;5;124mdevice\u001b[39m\u001b[38;5;124m'\u001b[39m) \u001b[38;5;129;01mis\u001b[39;00m \u001b[38;5;28;01mNone\u001b[39;00m:\n\u001b[1;32m     77\u001b[0m     kwargs[\u001b[38;5;124m'\u001b[39m\u001b[38;5;124mdevice\u001b[39m\u001b[38;5;124m'\u001b[39m] \u001b[38;5;241m=\u001b[39m \u001b[38;5;28mself\u001b[39m\u001b[38;5;241m.\u001b[39mdevice\n\u001b[0;32m---> 78\u001b[0m \u001b[38;5;28;01mreturn\u001b[39;00m func(\u001b[38;5;241m*\u001b[39margs, \u001b[38;5;241m*\u001b[39m\u001b[38;5;241m*\u001b[39mkwargs)\n",
      "\u001b[0;31mKeyboardInterrupt\u001b[0m: "
     ]
    }
   ],
   "source": [
    "with cProfile.Profile() as pr:\n",
    "    opt.train(\n",
    "        epochs=epochs, param_range=param_range, param_step=param_step, start_iter=0\n",
    "    )"
   ]
  },
  {
   "cell_type": "code",
   "execution_count": null,
   "metadata": {},
   "outputs": [
    {
     "name": "stdout",
     "output_type": "stream",
     "text": [
      "         4666348 function calls (3954845 primitive calls) in 5.515 seconds\n",
      "\n",
      "   Ordered by: standard name\n",
      "\n",
      "   ncalls  tottime  percall  cumtime  percall filename:lineno(function)\n",
      "   762000    2.049    0.000    3.767    0.000 _device.py:74(__torch_function__)\n",
      "     1500    0.002    0.000    0.011    0.000 _tensor.py:1037(__iter__)\n",
      "        1    0.000    0.000    0.000    0.000 base_events.py:1908(_run_once)\n",
      "        4    0.000    0.000    0.000    0.000 base_events.py:732(time)\n",
      "        1    0.000    0.000    0.000    0.000 cProfile.py:119(__exit__)\n",
      "        1    0.000    0.000    0.000    0.000 decorator.py:199(fix)\n",
      "        1    0.000    0.000    0.010    0.010 decorator.py:229(fun)\n",
      "        1    0.000    0.000    0.000    0.000 events.py:127(__lt__)\n",
      "        2    0.000    0.000    0.000    0.000 events.py:86(_run)\n",
      "        1    0.000    0.000    0.000    0.000 functools.py:35(update_wrapper)\n",
      "        1    0.000    0.000    0.000    0.000 functools.py:65(wraps)\n",
      "        1    0.000    0.000    0.010    0.010 history.py:55(only_when_enabled)\n",
      "        1    0.000    0.000    0.000    0.000 history.py:833(_writeout_input_cache)\n",
      "        1    0.000    0.000    0.000    0.000 history.py:839(_writeout_output_cache)\n",
      "        1    0.000    0.000    0.000    0.000 history.py:845(writeout_cache)\n",
      "        4    0.000    0.000    0.000    0.000 inspect.py:2782(name)\n",
      "       10    0.000    0.000    0.000    0.000 inspect.py:2794(kind)\n",
      "        1    0.000    0.000    0.000    0.000 inspect.py:2874(__init__)\n",
      "        1    0.000    0.000    0.000    0.000 inspect.py:2882(args)\n",
      "        1    0.000    0.000    0.000    0.000 inspect.py:2905(kwargs)\n",
      "        1    0.000    0.000    0.000    0.000 inspect.py:2935(apply_defaults)\n",
      "        4    0.000    0.000    0.000    0.000 inspect.py:3075(parameters)\n",
      "        1    0.000    0.000    0.000    0.000 inspect.py:3119(_bind)\n",
      "        1    0.000    0.000    0.000    0.000 inspect.py:3254(bind)\n",
      "        2    0.000    0.000    0.000    0.000 ioloop.py:742(_run_callback)\n",
      "        2    0.000    0.000    0.000    0.000 iostream.py:585(_flush)\n",
      "        2    0.000    0.000    0.000    0.000 iostream.py:678(_flush_buffer)\n",
      "        2    0.000    0.000    0.000    0.000 iostream.py:685(_rotate_buffer)\n",
      "        1    0.000    0.000    0.000    0.000 lr_scheduler.py:131(step)\n",
      "        1    0.000    0.000    0.000    0.000 lr_scheduler.py:178(__init__)\n",
      "        1    0.000    0.000    0.000    0.000 lr_scheduler.py:181(__enter__)\n",
      "        1    0.000    0.000    0.000    0.000 lr_scheduler.py:185(__exit__)\n",
      "        1    0.000    0.000    0.000    0.000 lr_scheduler.py:218(__init__)\n",
      "        1    0.000    0.000    0.000    0.000 lr_scheduler.py:25(_check_verbose_deprecated_warning)\n",
      "        1    0.000    0.000    0.000    0.000 lr_scheduler.py:269(get_lr)\n",
      "        1    0.000    0.000    0.000    0.000 lr_scheduler.py:35(__init__)\n",
      "        1    0.000    0.000    0.000    0.000 lr_scheduler.py:57(with_counter)\n",
      "        1    0.000    0.000    0.000    0.000 lr_scheduler.py:87(_initial_step)\n",
      "    50500    0.111    0.000    4.483    0.000 model.py:143(set_param)\n",
      "    50500    0.517    0.000    3.490    0.000 model.py:158(init_seq)\n",
      "   252501    0.284    0.000    0.591    0.000 module.py:1711(__setattr__)\n",
      "    51000    0.003    0.000    0.003    0.000 optimizer_supervised.py:200(generate_parameter_range)\n",
      "  501/500    0.007    0.000    0.033    0.000 optimizer_supervised.py:210(generate_parameter_points)\n",
      "      2/1    0.064    0.032    5.490    5.490 optimizer_supervised.py:240(train)\n",
      "        1    0.000    0.000    0.000    0.000 optimizer_supervised.py:285(<lambda>)\n",
      "        1    0.000    0.000    0.000    0.000 optimizer_supervised.py:61(lr_schedule)\n",
      "   252501    0.117    0.000    0.168    0.000 parameter.py:8(__instancecheck__)\n",
      "        2    0.000    0.000    0.000    0.000 selector_events.py:750(_process_events)\n",
      "        1    0.000    0.000    0.000    0.000 selectors.py:451(select)\n",
      "        2    0.000    0.000    0.000    0.000 threading.py:299(__enter__)\n",
      "        2    0.000    0.000    0.000    0.000 threading.py:302(__exit__)\n",
      "        1    0.000    0.000    0.000    0.000 threading.py:308(_release_save)\n",
      "        1    0.000    0.000    0.000    0.000 threading.py:311(_acquire_restore)\n",
      "        1    0.000    0.000    0.000    0.000 threading.py:314(_is_owned)\n",
      "        1    0.000    0.000    0.000    0.000 threading.py:627(clear)\n",
      "        1    0.000    0.000    0.000    0.000 traitlets.py:1512(_notify_trait)\n",
      "        1    0.000    0.000    0.000    0.000 traitlets.py:1523(notify_change)\n",
      "        1    0.000    0.000    0.000    0.000 traitlets.py:1527(_notify_observers)\n",
      "        2    0.000    0.000    0.000    0.000 traitlets.py:2304(validate)\n",
      "        2    0.000    0.000    0.000    0.000 traitlets.py:3474(validate)\n",
      "        2    0.000    0.000    0.000    0.000 traitlets.py:3486(validate_elements)\n",
      "        2    0.000    0.000    0.000    0.000 traitlets.py:3624(validate_elements)\n",
      "        2    0.000    0.000    0.000    0.000 traitlets.py:3631(set)\n",
      "        6    0.000    0.000    0.000    0.000 traitlets.py:629(get)\n",
      "        6    0.000    0.000    0.000    0.000 traitlets.py:676(__get__)\n",
      "        2    0.000    0.000    0.000    0.000 traitlets.py:689(set)\n",
      "        2    0.000    0.000    0.000    0.000 traitlets.py:708(__set__)\n",
      "        2    0.000    0.000    0.000    0.000 traitlets.py:718(_validate)\n",
      "        2    0.000    0.000    0.000    0.000 traitlets.py:727(_cross_validate)\n",
      "       22    0.000    0.000    0.000    0.000 typing.py:2132(cast)\n",
      "        2    0.000    0.000    0.000    0.000 {built-in method _heapq.heappop}\n",
      "        1    0.000    0.000    0.000    0.000 {built-in method _thread.allocate_lock}\n",
      "   202010    0.014    0.000    0.014    0.000 {built-in method builtins.getattr}\n",
      "        5    0.000    0.000    0.000    0.000 {built-in method builtins.hasattr}\n",
      "757514/505013    0.090    0.000    0.241    0.000 {built-in method builtins.isinstance}\n",
      "     1502    0.000    0.000    0.000    0.000 {built-in method builtins.iter}\n",
      "        9    0.000    0.000    0.000    0.000 {built-in method builtins.len}\n",
      "        4    0.000    0.000    0.000    0.000 {built-in method builtins.max}\n",
      "        3    0.000    0.000    0.000    0.000 {built-in method builtins.min}\n",
      "        6    0.000    0.000    0.000    0.000 {built-in method builtins.next}\n",
      "        6    0.000    0.000    0.000    0.000 {built-in method builtins.setattr}\n",
      "        2    0.000    0.000    0.000    0.000 {built-in method math.ceil}\n",
      "        4    0.000    0.000    0.000    0.000 {built-in method time.monotonic}\n",
      "     1100    0.000    0.000    0.000    0.000 {built-in method time.time}\n",
      "     1500    0.001    0.000    0.001    0.000 {built-in method torch._C._get_tracing_state}\n",
      "101000/50500    0.128    0.000    0.146    0.000 {built-in method torch.diag}\n",
      "    50500    0.007    0.000    0.007    0.000 {built-in method torch.get_default_dtype}\n",
      "101000/50500    0.261    0.000    0.292    0.000 {built-in method torch.randint}\n",
      "202000/101000    0.868    0.000    0.934    0.000 {built-in method torch.tensor}\n",
      "101000/50500    0.240    0.000    0.273    0.000 {built-in method torch.zeros}\n",
      "   252501    0.019    0.000    0.019    0.000 {function _ParameterMeta.__instancecheck__ at 0x78550f1d8040}\n",
      "        2    0.000    0.000    0.000    0.000 {method '__enter__' of '_thread.lock' objects}\n",
      "        2    0.000    0.000    0.000    0.000 {method '__exit__' of '_thread.RLock' objects}\n",
      "        4    0.000    0.000    0.000    0.000 {method '__exit__' of '_thread.lock' objects}\n",
      "        2    0.000    0.000    0.000    0.000 {method '__exit__' of 'sqlite3.Connection' objects}\n",
      "        3    0.000    0.000    0.000    0.000 {method 'acquire' of '_thread.lock' objects}\n",
      "    50500    0.141    0.000    0.141    0.000 {method 'add_' of 'torch._C.TensorBase' objects}\n",
      "        3    0.000    0.000    0.000    0.000 {method 'append' of 'collections.deque' objects}\n",
      "        4    0.000    0.000    0.000    0.000 {method 'append' of 'list' objects}\n",
      "        2    0.000    0.000    0.000    0.000 {method 'close' of '_io.StringIO' objects}\n",
      "3000/1500    0.002    0.000    0.003    0.000 {method 'dim' of 'torch._C.TensorBase' objects}\n",
      "        1    0.000    0.000    0.000    0.000 {method 'disable' of '_lsprof.Profiler' objects}\n",
      "        1    0.000    0.000    0.000    0.000 {method 'execute' of 'sqlite3.Connection' objects}\n",
      "        2    0.000    0.000    0.000    0.000 {method 'extend' of 'list' objects}\n",
      "   959507    0.089    0.000    0.089    0.000 {method 'get' of 'dict' objects}\n",
      "        2    0.000    0.000    0.000    0.000 {method 'getvalue' of '_io.StringIO' objects}\n",
      "3000/1500    0.012    0.000    0.013    0.000 {method 'item' of 'torch._C.TensorBase' objects}\n",
      "        3    0.000    0.000    0.000    0.000 {method 'items' of 'mappingproxy' objects}\n",
      "101000/50500    0.138    0.000    0.156    0.000 {method 'log' of 'torch._C.TensorBase' objects}\n",
      "        1    0.000    0.000    0.000    0.000 {method 'poll' of 'select.epoll' objects}\n",
      "        2    0.000    0.000    0.000    0.000 {method 'popleft' of 'collections.deque' objects}\n",
      "        1    0.000    0.000    0.000    0.000 {method 'release' of '_thread.lock' objects}\n",
      "    50500    0.078    0.000    0.078    0.000 {method 'remainder' of 'torch._C.TensorBase' objects}\n",
      "        2    0.000    0.000    0.000    0.000 {method 'run' of '_contextvars.Context' objects}\n",
      "        1    0.000    0.000    0.000    0.000 {method 'setdefault' of 'dict' objects}\n",
      "101000/50500    0.111    0.000    0.128    0.000 {method 'to' of 'torch._C.TensorBase' objects}\n",
      "3000/1500    0.004    0.000    0.005    0.000 {method 'unbind' of 'torch._C.TensorBase' objects}\n",
      "202000/101000    0.157    0.000    0.190    0.000 {method 'unsqueeze' of 'torch._C.TensorBase' objects}\n",
      "        1    0.000    0.000    0.000    0.000 {method 'update' of 'dict' objects}\n",
      "        1    0.000    0.000    0.000    0.000 {method 'values' of 'mappingproxy' objects}\n",
      "\n",
      "\n"
     ]
    }
   ],
   "source": [
    "pr.print_stats()"
   ]
  },
  {
   "cell_type": "code",
   "execution_count": null,
   "metadata": {},
   "outputs": [],
   "source": [
    "pr.dump_stats(\"profilestats\")"
   ]
  },
  {
   "cell_type": "code",
   "execution_count": null,
   "metadata": {},
   "outputs": [
    {
     "ename": "ValueError",
     "evalue": "Ground states not loaded yet. See load_dataset.",
     "output_type": "error",
     "traceback": [
      "\u001b[0;31m---------------------------------------------------------------------------\u001b[0m",
      "\u001b[0;31mValueError\u001b[0m                                Traceback (most recent call last)",
      "Cell \u001b[0;32mIn[101], line 1\u001b[0m\n\u001b[0;32m----> 1\u001b[0m loss \u001b[38;5;241m=\u001b[39m opt\u001b[38;5;241m.\u001b[39mcalculate_mse_step(Hamiltonians[\u001b[38;5;241m0\u001b[39m], params\u001b[38;5;241m=\u001b[39mtorch\u001b[38;5;241m.\u001b[39mtensor([\u001b[38;5;241m1.0\u001b[39m], device\u001b[38;5;241m=\u001b[39m\u001b[38;5;124m\"\u001b[39m\u001b[38;5;124mcuda\u001b[39m\u001b[38;5;124m\"\u001b[39m), use_symmetry\u001b[38;5;241m=\u001b[39m\u001b[38;5;28;01mTrue\u001b[39;00m)\n",
      "File \u001b[0;32m~/Projects/tqs/optimizer_supervised.py:180\u001b[0m, in \u001b[0;36mOptimizer.calculate_mse_step\u001b[0;34m(self, H, params, basis_batch, use_symmetry)\u001b[0m\n\u001b[1;32m    175\u001b[0m psi_predicted \u001b[38;5;241m=\u001b[39m amp\u001b[38;5;241m.\u001b[39mmul(torch\u001b[38;5;241m.\u001b[39mexp(\u001b[38;5;241m1\u001b[39mj \u001b[38;5;241m*\u001b[39m phase))\n\u001b[1;32m    177\u001b[0m \u001b[38;5;66;03m# Obtain the ground state wave function for the Hamiltonian H, possibly memoized internally\u001b[39;00m\n\u001b[1;32m    178\u001b[0m \u001b[38;5;66;03m# in the Hamiltonian object. This is the true wave function that the model's predictions\u001b[39;00m\n\u001b[1;32m    179\u001b[0m \u001b[38;5;66;03m# are compared against. TODO: implement memoization in Hamiltonian objects.\u001b[39;00m\n\u001b[0;32m--> 180\u001b[0m energy, psi_true \u001b[38;5;241m=\u001b[39m H\u001b[38;5;241m.\u001b[39mretrieve_ground(param\u001b[38;5;241m=\u001b[39mparams)\n\u001b[1;32m    182\u001b[0m \u001b[38;5;66;03m# Compute the mean squared error between the model's predictions and the true\u001b[39;00m\n\u001b[1;32m    183\u001b[0m \u001b[38;5;66;03m# ground state wave function.\u001b[39;00m\n\u001b[1;32m    184\u001b[0m psi_predicted_real_imag \u001b[38;5;241m=\u001b[39m torch\u001b[38;5;241m.\u001b[39mview_as_real(psi_predicted)\n",
      "File \u001b[0;32m~/Projects/tqs/Ising.py:260\u001b[0m, in \u001b[0;36mIsing.retrieve_ground\u001b[0;34m(self, param, abs_tol)\u001b[0m\n\u001b[1;32m    237\u001b[0m \u001b[38;5;250m\u001b[39m\u001b[38;5;124;03m\"\"\"\u001b[39;00m\n\u001b[1;32m    238\u001b[0m \u001b[38;5;124;03mGiven a parameter value and system size, retrieves the ground state as a PyTorch tensor--\u001b[39;00m\n\u001b[1;32m    239\u001b[0m \u001b[38;5;124;03mpossibly for use in supervised training.\u001b[39;00m\n\u001b[0;32m   (...)\u001b[0m\n\u001b[1;32m    256\u001b[0m \u001b[38;5;124;03m    The ground state wavefunction as a PyTorch tensor of shape (2**n, )\u001b[39;00m\n\u001b[1;32m    257\u001b[0m \u001b[38;5;124;03m\"\"\"\u001b[39;00m\n\u001b[1;32m    259\u001b[0m \u001b[38;5;28;01mif\u001b[39;00m \u001b[38;5;28mself\u001b[39m\u001b[38;5;241m.\u001b[39mdataset \u001b[38;5;129;01mis\u001b[39;00m \u001b[38;5;28;01mNone\u001b[39;00m:\n\u001b[0;32m--> 260\u001b[0m     \u001b[38;5;28;01mraise\u001b[39;00m \u001b[38;5;167;01mValueError\u001b[39;00m(\u001b[38;5;124m\"\u001b[39m\u001b[38;5;124mGround states not loaded yet. See load_dataset.\u001b[39m\u001b[38;5;124m\"\u001b[39m)\n\u001b[1;32m    262\u001b[0m \u001b[38;5;66;03m# Find the rows close to the parameter value (within abs_tol)\u001b[39;00m\n\u001b[1;32m    263\u001b[0m h_matches \u001b[38;5;241m=\u001b[39m \u001b[38;5;28mself\u001b[39m\u001b[38;5;241m.\u001b[39mdataset[np\u001b[38;5;241m.\u001b[39misclose(\u001b[38;5;28mself\u001b[39m\u001b[38;5;241m.\u001b[39mdataset[\u001b[38;5;124m\"\u001b[39m\u001b[38;5;124mh\u001b[39m\u001b[38;5;124m\"\u001b[39m], param, atol\u001b[38;5;241m=\u001b[39mabs_tol)]\n",
      "\u001b[0;31mValueError\u001b[0m: Ground states not loaded yet. See load_dataset."
     ]
    }
   ],
   "source": [
    "loss = opt.calculate_mse_step(\n",
    "    Hamiltonians[0], params=torch.tensor([1.0], device=\"cuda\"), use_symmetry=True\n",
    ")"
   ]
  },
  {
   "cell_type": "code",
   "execution_count": null,
   "metadata": {},
   "outputs": [],
   "source": [
    "H = Hamiltonians[9]"
   ]
  },
  {
   "cell_type": "code",
   "execution_count": null,
   "metadata": {},
   "outputs": [],
   "source": [
    "from model_utils import compute_psi"
   ]
  },
  {
   "cell_type": "code",
   "execution_count": null,
   "metadata": {},
   "outputs": [
    {
     "ename": "RuntimeError",
     "evalue": "Expected all tensors to be on the same device, but found at least two devices, cpu and cuda:0! (when checking argument for argument mat2 in method wrapper_CUDA_mm)",
     "output_type": "error",
     "traceback": [
      "\u001b[0;31m---------------------------------------------------------------------------\u001b[0m",
      "\u001b[0;31mRuntimeError\u001b[0m                              Traceback (most recent call last)",
      "Cell \u001b[0;32mIn[58], line 3\u001b[0m\n\u001b[1;32m      1\u001b[0m basis \u001b[38;5;241m=\u001b[39m H\u001b[38;5;241m.\u001b[39mbasis \n\u001b[1;32m      2\u001b[0m symmetry \u001b[38;5;241m=\u001b[39m H\u001b[38;5;241m.\u001b[39msymmetry\n\u001b[0;32m----> 3\u001b[0m log_amp, log_phase \u001b[38;5;241m=\u001b[39m compute_psi(testmodel, basis, symmetry)\n",
      "File \u001b[0;32m~/Projects/tqs/model_utils.py:228\u001b[0m, in \u001b[0;36mcompute_psi\u001b[0;34m(model, samples, symmetry, check_duplicate)\u001b[0m\n\u001b[1;32m    225\u001b[0m batch_idx \u001b[38;5;241m=\u001b[39m torch\u001b[38;5;241m.\u001b[39marange(batch)\u001b[38;5;241m.\u001b[39mreshape(\u001b[38;5;241m1\u001b[39m, batch)\n\u001b[1;32m    226\u001b[0m spin_idx \u001b[38;5;241m=\u001b[39m samples\u001b[38;5;241m.\u001b[39mto(torch\u001b[38;5;241m.\u001b[39mint64)\n\u001b[0;32m--> 228\u001b[0m log_amp, log_phase \u001b[38;5;241m=\u001b[39m model\u001b[38;5;241m.\u001b[39mforward(\n\u001b[1;32m    229\u001b[0m     samples, compute_phase\u001b[38;5;241m=\u001b[39m\u001b[38;5;28;01mTrue\u001b[39;00m\n\u001b[1;32m    230\u001b[0m )  \u001b[38;5;66;03m# (seq, batch, phys_dim)\u001b[39;00m\n\u001b[1;32m    232\u001b[0m \u001b[38;5;66;03m# Ignore the last output (would be a conditional probability of an\u001b[39;00m\n\u001b[1;32m    233\u001b[0m \u001b[38;5;66;03m# n+1th spin given the first n spins and the coupling constants, but\u001b[39;00m\n\u001b[1;32m    234\u001b[0m \u001b[38;5;66;03m# our system only has n spins).\u001b[39;00m\n\u001b[1;32m    235\u001b[0m log_amp \u001b[38;5;241m=\u001b[39m log_amp[:\u001b[38;5;241m-\u001b[39m\u001b[38;5;241m1\u001b[39m]  \u001b[38;5;66;03m# (n, batch, phys_dim)\u001b[39;00m\n",
      "File \u001b[0;32m~/Projects/tqs/model.py:304\u001b[0m, in \u001b[0;36mTransformerModel.forward\u001b[0;34m(self, spins, compute_phase)\u001b[0m\n\u001b[1;32m    302\u001b[0m \u001b[38;5;28;01mfor\u001b[39;00m i \u001b[38;5;129;01min\u001b[39;00m \u001b[38;5;28mrange\u001b[39m(repeat):\n\u001b[1;32m    303\u001b[0m     src_i \u001b[38;5;241m=\u001b[39m src[:, i \u001b[38;5;241m*\u001b[39m minibatch : (i \u001b[38;5;241m+\u001b[39m \u001b[38;5;241m1\u001b[39m) \u001b[38;5;241m*\u001b[39m minibatch]\n\u001b[0;32m--> 304\u001b[0m     src_i \u001b[38;5;241m=\u001b[39m \u001b[38;5;28mself\u001b[39m\u001b[38;5;241m.\u001b[39mencoder(src_i) \u001b[38;5;241m*\u001b[39m math\u001b[38;5;241m.\u001b[39msqrt(\n\u001b[1;32m    305\u001b[0m         \u001b[38;5;28mself\u001b[39m\u001b[38;5;241m.\u001b[39membedding_size\n\u001b[1;32m    306\u001b[0m     )  \u001b[38;5;66;03m# (seq, batch, embedding)\u001b[39;00m\n\u001b[1;32m    307\u001b[0m     \u001b[38;5;66;03m# src_i = src_i + self.pos_embedding[:len(src_i)]  # (seq, batch, embedding)\u001b[39;00m\n\u001b[1;32m    308\u001b[0m     src_i \u001b[38;5;241m=\u001b[39m \u001b[38;5;28mself\u001b[39m\u001b[38;5;241m.\u001b[39mpos_encoder(src_i, system_size)  \u001b[38;5;66;03m# (seq, batch, embedding)\u001b[39;00m\n",
      "File \u001b[0;32m~/anaconda3/envs/tqs2/lib/python3.12/site-packages/torch/nn/modules/module.py:1532\u001b[0m, in \u001b[0;36mModule._wrapped_call_impl\u001b[0;34m(self, *args, **kwargs)\u001b[0m\n\u001b[1;32m   1530\u001b[0m     \u001b[38;5;28;01mreturn\u001b[39;00m \u001b[38;5;28mself\u001b[39m\u001b[38;5;241m.\u001b[39m_compiled_call_impl(\u001b[38;5;241m*\u001b[39margs, \u001b[38;5;241m*\u001b[39m\u001b[38;5;241m*\u001b[39mkwargs)  \u001b[38;5;66;03m# type: ignore[misc]\u001b[39;00m\n\u001b[1;32m   1531\u001b[0m \u001b[38;5;28;01melse\u001b[39;00m:\n\u001b[0;32m-> 1532\u001b[0m     \u001b[38;5;28;01mreturn\u001b[39;00m \u001b[38;5;28mself\u001b[39m\u001b[38;5;241m.\u001b[39m_call_impl(\u001b[38;5;241m*\u001b[39margs, \u001b[38;5;241m*\u001b[39m\u001b[38;5;241m*\u001b[39mkwargs)\n",
      "File \u001b[0;32m~/anaconda3/envs/tqs2/lib/python3.12/site-packages/torch/nn/modules/module.py:1541\u001b[0m, in \u001b[0;36mModule._call_impl\u001b[0;34m(self, *args, **kwargs)\u001b[0m\n\u001b[1;32m   1536\u001b[0m \u001b[38;5;66;03m# If we don't have any hooks, we want to skip the rest of the logic in\u001b[39;00m\n\u001b[1;32m   1537\u001b[0m \u001b[38;5;66;03m# this function, and just call forward.\u001b[39;00m\n\u001b[1;32m   1538\u001b[0m \u001b[38;5;28;01mif\u001b[39;00m \u001b[38;5;129;01mnot\u001b[39;00m (\u001b[38;5;28mself\u001b[39m\u001b[38;5;241m.\u001b[39m_backward_hooks \u001b[38;5;129;01mor\u001b[39;00m \u001b[38;5;28mself\u001b[39m\u001b[38;5;241m.\u001b[39m_backward_pre_hooks \u001b[38;5;129;01mor\u001b[39;00m \u001b[38;5;28mself\u001b[39m\u001b[38;5;241m.\u001b[39m_forward_hooks \u001b[38;5;129;01mor\u001b[39;00m \u001b[38;5;28mself\u001b[39m\u001b[38;5;241m.\u001b[39m_forward_pre_hooks\n\u001b[1;32m   1539\u001b[0m         \u001b[38;5;129;01mor\u001b[39;00m _global_backward_pre_hooks \u001b[38;5;129;01mor\u001b[39;00m _global_backward_hooks\n\u001b[1;32m   1540\u001b[0m         \u001b[38;5;129;01mor\u001b[39;00m _global_forward_hooks \u001b[38;5;129;01mor\u001b[39;00m _global_forward_pre_hooks):\n\u001b[0;32m-> 1541\u001b[0m     \u001b[38;5;28;01mreturn\u001b[39;00m forward_call(\u001b[38;5;241m*\u001b[39margs, \u001b[38;5;241m*\u001b[39m\u001b[38;5;241m*\u001b[39mkwargs)\n\u001b[1;32m   1543\u001b[0m \u001b[38;5;28;01mtry\u001b[39;00m:\n\u001b[1;32m   1544\u001b[0m     result \u001b[38;5;241m=\u001b[39m \u001b[38;5;28;01mNone\u001b[39;00m\n",
      "File \u001b[0;32m~/anaconda3/envs/tqs2/lib/python3.12/site-packages/torch/nn/modules/linear.py:116\u001b[0m, in \u001b[0;36mLinear.forward\u001b[0;34m(self, input)\u001b[0m\n\u001b[1;32m    115\u001b[0m \u001b[38;5;28;01mdef\u001b[39;00m \u001b[38;5;21mforward\u001b[39m(\u001b[38;5;28mself\u001b[39m, \u001b[38;5;28minput\u001b[39m: Tensor) \u001b[38;5;241m-\u001b[39m\u001b[38;5;241m>\u001b[39m Tensor:\n\u001b[0;32m--> 116\u001b[0m     \u001b[38;5;28;01mreturn\u001b[39;00m F\u001b[38;5;241m.\u001b[39mlinear(\u001b[38;5;28minput\u001b[39m, \u001b[38;5;28mself\u001b[39m\u001b[38;5;241m.\u001b[39mweight, \u001b[38;5;28mself\u001b[39m\u001b[38;5;241m.\u001b[39mbias)\n",
      "\u001b[0;31mRuntimeError\u001b[0m: Expected all tensors to be on the same device, but found at least two devices, cpu and cuda:0! (when checking argument for argument mat2 in method wrapper_CUDA_mm)"
     ]
    }
   ],
   "source": [
    "basis = H.basis\n",
    "symmetry = H.symmetry\n",
    "log_amp, log_phase = compute_psi(testmodel, basis, symmetry)"
   ]
  },
  {
   "cell_type": "code",
   "execution_count": null,
   "metadata": {},
   "outputs": [
    {
     "data": {
      "text/plain": [
       "tensor([[0, 0, 0,  ..., 1, 1, 1],\n",
       "        [0, 0, 0,  ..., 1, 1, 1],\n",
       "        [0, 0, 0,  ..., 1, 1, 1],\n",
       "        ...,\n",
       "        [0, 0, 0,  ..., 1, 1, 1],\n",
       "        [0, 0, 1,  ..., 0, 1, 1],\n",
       "        [0, 1, 0,  ..., 1, 0, 1]], device='cuda:0')"
      ]
     },
     "execution_count": 19,
     "metadata": {},
     "output_type": "execute_result"
    }
   ],
   "source": [
    "spins = H.basis\n",
    "spins"
   ]
  },
  {
   "cell_type": "code",
   "execution_count": null,
   "metadata": {},
   "outputs": [
    {
     "data": {
      "text/plain": [
       "tensor([[0., -inf, -inf, -inf],\n",
       "        [0., 0., -inf, -inf],\n",
       "        [0., 0., 0., -inf],\n",
       "        [0., 0., 0., 0.]], device='cuda:0')"
      ]
     },
     "execution_count": 103,
     "metadata": {},
     "output_type": "execute_result"
    }
   ],
   "source": [
    "testmodel.src_mask.cuda()"
   ]
  },
  {
   "cell_type": "markdown",
   "metadata": {},
   "source": [
    "## .forward()\n",
    "\n",
    "Let's follow .forward() to find bottlenecks.\n"
   ]
  },
  {
   "cell_type": "code",
   "execution_count": null,
   "metadata": {},
   "outputs": [],
   "source": [
    "H = Hamiltonians[9]"
   ]
  },
  {
   "cell_type": "code",
   "execution_count": null,
   "metadata": {},
   "outputs": [
    {
     "data": {
      "text/plain": [
       "tensor([20])"
      ]
     },
     "execution_count": 15,
     "metadata": {},
     "output_type": "execute_result"
    }
   ],
   "source": [
    "H.system_size"
   ]
  },
  {
   "cell_type": "code",
   "execution_count": null,
   "metadata": {},
   "outputs": [
    {
     "data": {
      "text/plain": [
       "tensor([[0, 0, 0,  ..., 1, 1, 1],\n",
       "        [0, 0, 0,  ..., 1, 1, 1],\n",
       "        [0, 0, 0,  ..., 1, 1, 1],\n",
       "        ...,\n",
       "        [0, 0, 0,  ..., 1, 1, 1],\n",
       "        [0, 0, 1,  ..., 0, 1, 1],\n",
       "        [0, 1, 0,  ..., 1, 0, 1]], device='cuda:0')"
      ]
     },
     "execution_count": 16,
     "metadata": {},
     "output_type": "execute_result"
    }
   ],
   "source": [
    "spins = H.basis\n",
    "spins"
   ]
  },
  {
   "cell_type": "code",
   "execution_count": null,
   "metadata": {},
   "outputs": [],
   "source": [
    "testmodel.set_param(system_size=H.system_size, param=torch.tensor([1.0], device=\"cuda\"))"
   ]
  },
  {
   "cell_type": "code",
   "execution_count": null,
   "metadata": {},
   "outputs": [
    {
     "data": {
      "text/plain": [
       "tensor([[[0.0000, 0.0000, 2.9957, 0.0000, 0.0000, 0.0000],\n",
       "         [0.0000, 0.0000, 2.9957, 0.0000, 0.0000, 0.0000],\n",
       "         [0.0000, 0.0000, 2.9957, 0.0000, 0.0000, 0.0000],\n",
       "         ...,\n",
       "         [0.0000, 0.0000, 2.9957, 0.0000, 0.0000, 0.0000],\n",
       "         [0.0000, 0.0000, 2.9957, 0.0000, 0.0000, 0.0000],\n",
       "         [0.0000, 0.0000, 2.9957, 0.0000, 0.0000, 0.0000]],\n",
       "\n",
       "        [[0.0000, 0.0000, 0.0000, 0.0000, 0.0000, 1.0000],\n",
       "         [0.0000, 0.0000, 0.0000, 0.0000, 0.0000, 1.0000],\n",
       "         [0.0000, 0.0000, 0.0000, 0.0000, 0.0000, 1.0000],\n",
       "         ...,\n",
       "         [0.0000, 0.0000, 0.0000, 0.0000, 0.0000, 1.0000],\n",
       "         [0.0000, 0.0000, 0.0000, 0.0000, 0.0000, 1.0000],\n",
       "         [0.0000, 0.0000, 0.0000, 0.0000, 0.0000, 1.0000]],\n",
       "\n",
       "        [[1.0000, 0.0000, 0.0000, 0.0000, 0.0000, 0.0000],\n",
       "         [1.0000, 0.0000, 0.0000, 0.0000, 0.0000, 0.0000],\n",
       "         [1.0000, 0.0000, 0.0000, 0.0000, 0.0000, 0.0000],\n",
       "         ...,\n",
       "         [0.0000, 1.0000, 0.0000, 0.0000, 0.0000, 0.0000],\n",
       "         [0.0000, 1.0000, 0.0000, 0.0000, 0.0000, 0.0000],\n",
       "         [0.0000, 1.0000, 0.0000, 0.0000, 0.0000, 0.0000]],\n",
       "\n",
       "        ...,\n",
       "\n",
       "        [[1.0000, 0.0000, 0.0000, 0.0000, 0.0000, 0.0000],\n",
       "         [1.0000, 0.0000, 0.0000, 0.0000, 0.0000, 0.0000],\n",
       "         [1.0000, 0.0000, 0.0000, 0.0000, 0.0000, 0.0000],\n",
       "         ...,\n",
       "         [0.0000, 1.0000, 0.0000, 0.0000, 0.0000, 0.0000],\n",
       "         [0.0000, 1.0000, 0.0000, 0.0000, 0.0000, 0.0000],\n",
       "         [0.0000, 1.0000, 0.0000, 0.0000, 0.0000, 0.0000]],\n",
       "\n",
       "        [[1.0000, 0.0000, 0.0000, 0.0000, 0.0000, 0.0000],\n",
       "         [1.0000, 0.0000, 0.0000, 0.0000, 0.0000, 0.0000],\n",
       "         [0.0000, 1.0000, 0.0000, 0.0000, 0.0000, 0.0000],\n",
       "         ...,\n",
       "         [1.0000, 0.0000, 0.0000, 0.0000, 0.0000, 0.0000],\n",
       "         [0.0000, 1.0000, 0.0000, 0.0000, 0.0000, 0.0000],\n",
       "         [0.0000, 1.0000, 0.0000, 0.0000, 0.0000, 0.0000]],\n",
       "\n",
       "        [[1.0000, 0.0000, 0.0000, 0.0000, 0.0000, 0.0000],\n",
       "         [0.0000, 1.0000, 0.0000, 0.0000, 0.0000, 0.0000],\n",
       "         [1.0000, 0.0000, 0.0000, 0.0000, 0.0000, 0.0000],\n",
       "         ...,\n",
       "         [0.0000, 1.0000, 0.0000, 0.0000, 0.0000, 0.0000],\n",
       "         [1.0000, 0.0000, 0.0000, 0.0000, 0.0000, 0.0000],\n",
       "         [0.0000, 1.0000, 0.0000, 0.0000, 0.0000, 0.0000]]], device='cuda:0')"
      ]
     },
     "execution_count": 18,
     "metadata": {},
     "output_type": "execute_result"
    }
   ],
   "source": [
    "src = testmodel.wrap_spins(spins)\n",
    "src"
   ]
  },
  {
   "cell_type": "code",
   "execution_count": null,
   "metadata": {},
   "outputs": [
    {
     "data": {
      "text/plain": [
       "torch.Size([22, 1048576, 6])"
      ]
     },
     "execution_count": 68,
     "metadata": {},
     "output_type": "execute_result"
    }
   ],
   "source": [
    "src.shape"
   ]
  },
  {
   "cell_type": "code",
   "execution_count": null,
   "metadata": {},
   "outputs": [
    {
     "data": {
      "text/plain": [
       "device(type='cuda', index=0)"
      ]
     },
     "execution_count": 24,
     "metadata": {},
     "output_type": "execute_result"
    }
   ],
   "source": [
    "src.device"
   ]
  },
  {
   "cell_type": "code",
   "execution_count": null,
   "metadata": {},
   "outputs": [],
   "source": [
    "testmodel.src_mask"
   ]
  },
  {
   "cell_type": "code",
   "execution_count": null,
   "metadata": {},
   "outputs": [
    {
     "data": {
      "text/plain": [
       "tensor([[0., -inf, -inf, -inf, -inf, -inf, -inf, -inf, -inf, -inf, -inf, -inf, -inf, -inf, -inf, -inf, -inf, -inf, -inf, -inf, -inf, -inf],\n",
       "        [0., 0., -inf, -inf, -inf, -inf, -inf, -inf, -inf, -inf, -inf, -inf, -inf, -inf, -inf, -inf, -inf, -inf, -inf, -inf, -inf, -inf],\n",
       "        [0., 0., 0., -inf, -inf, -inf, -inf, -inf, -inf, -inf, -inf, -inf, -inf, -inf, -inf, -inf, -inf, -inf, -inf, -inf, -inf, -inf],\n",
       "        [0., 0., 0., 0., -inf, -inf, -inf, -inf, -inf, -inf, -inf, -inf, -inf, -inf, -inf, -inf, -inf, -inf, -inf, -inf, -inf, -inf],\n",
       "        [0., 0., 0., 0., 0., -inf, -inf, -inf, -inf, -inf, -inf, -inf, -inf, -inf, -inf, -inf, -inf, -inf, -inf, -inf, -inf, -inf],\n",
       "        [0., 0., 0., 0., 0., 0., -inf, -inf, -inf, -inf, -inf, -inf, -inf, -inf, -inf, -inf, -inf, -inf, -inf, -inf, -inf, -inf],\n",
       "        [0., 0., 0., 0., 0., 0., 0., -inf, -inf, -inf, -inf, -inf, -inf, -inf, -inf, -inf, -inf, -inf, -inf, -inf, -inf, -inf],\n",
       "        [0., 0., 0., 0., 0., 0., 0., 0., -inf, -inf, -inf, -inf, -inf, -inf, -inf, -inf, -inf, -inf, -inf, -inf, -inf, -inf],\n",
       "        [0., 0., 0., 0., 0., 0., 0., 0., 0., -inf, -inf, -inf, -inf, -inf, -inf, -inf, -inf, -inf, -inf, -inf, -inf, -inf],\n",
       "        [0., 0., 0., 0., 0., 0., 0., 0., 0., 0., -inf, -inf, -inf, -inf, -inf, -inf, -inf, -inf, -inf, -inf, -inf, -inf],\n",
       "        [0., 0., 0., 0., 0., 0., 0., 0., 0., 0., 0., -inf, -inf, -inf, -inf, -inf, -inf, -inf, -inf, -inf, -inf, -inf],\n",
       "        [0., 0., 0., 0., 0., 0., 0., 0., 0., 0., 0., 0., -inf, -inf, -inf, -inf, -inf, -inf, -inf, -inf, -inf, -inf],\n",
       "        [0., 0., 0., 0., 0., 0., 0., 0., 0., 0., 0., 0., 0., -inf, -inf, -inf, -inf, -inf, -inf, -inf, -inf, -inf],\n",
       "        [0., 0., 0., 0., 0., 0., 0., 0., 0., 0., 0., 0., 0., 0., -inf, -inf, -inf, -inf, -inf, -inf, -inf, -inf],\n",
       "        [0., 0., 0., 0., 0., 0., 0., 0., 0., 0., 0., 0., 0., 0., 0., -inf, -inf, -inf, -inf, -inf, -inf, -inf],\n",
       "        [0., 0., 0., 0., 0., 0., 0., 0., 0., 0., 0., 0., 0., 0., 0., 0., -inf, -inf, -inf, -inf, -inf, -inf],\n",
       "        [0., 0., 0., 0., 0., 0., 0., 0., 0., 0., 0., 0., 0., 0., 0., 0., 0., -inf, -inf, -inf, -inf, -inf],\n",
       "        [0., 0., 0., 0., 0., 0., 0., 0., 0., 0., 0., 0., 0., 0., 0., 0., 0., 0., -inf, -inf, -inf, -inf],\n",
       "        [0., 0., 0., 0., 0., 0., 0., 0., 0., 0., 0., 0., 0., 0., 0., 0., 0., 0., 0., -inf, -inf, -inf],\n",
       "        [0., 0., 0., 0., 0., 0., 0., 0., 0., 0., 0., 0., 0., 0., 0., 0., 0., 0., 0., 0., -inf, -inf],\n",
       "        [0., 0., 0., 0., 0., 0., 0., 0., 0., 0., 0., 0., 0., 0., 0., 0., 0., 0., 0., 0., 0., -inf],\n",
       "        [0., 0., 0., 0., 0., 0., 0., 0., 0., 0., 0., 0., 0., 0., 0., 0., 0., 0., 0., 0., 0., 0.]],\n",
       "       device='cuda:0')"
      ]
     },
     "execution_count": 20,
     "metadata": {},
     "output_type": "execute_result"
    }
   ],
   "source": [
    "testmodel.src_mask = testmodel._generate_square_subsequent_mask(src.size(0)).to(\n",
    "    src.device\n",
    ")\n",
    "testmodel.src_mask"
   ]
  },
  {
   "cell_type": "code",
   "execution_count": null,
   "metadata": {},
   "outputs": [
    {
     "name": "stdout",
     "output_type": "stream",
     "text": [
      "1\n",
      "2\n"
     ]
    }
   ],
   "source": [
    "print(testmodel.n_dim)\n",
    "print(testmodel.phys_dim)"
   ]
  },
  {
   "cell_type": "code",
   "execution_count": null,
   "metadata": {},
   "outputs": [
    {
     "data": {
      "text/plain": [
       "tensor([2.9957], device='cuda:0')"
      ]
     },
     "execution_count": 21,
     "metadata": {},
     "output_type": "execute_result"
    }
   ],
   "source": [
    "system_size = src[\n",
    "    : testmodel.n_dim, 0, testmodel.phys_dim : testmodel.phys_dim + testmodel.n_dim\n",
    "].diag()\n",
    "system_size"
   ]
  },
  {
   "cell_type": "code",
   "execution_count": null,
   "metadata": {},
   "outputs": [
    {
     "data": {
      "text/plain": [
       "tensor([20], device='cuda:0')"
      ]
     },
     "execution_count": 22,
     "metadata": {},
     "output_type": "execute_result"
    }
   ],
   "source": [
    "system_size = system_size.exp().round().to(torch.int64)\n",
    "system_size"
   ]
  },
  {
   "cell_type": "code",
   "execution_count": null,
   "metadata": {},
   "outputs": [
    {
     "data": {
      "text/plain": [
       "2097152"
      ]
     },
     "execution_count": 42,
     "metadata": {},
     "output_type": "execute_result"
    }
   ],
   "source": [
    "2**21"
   ]
  },
  {
   "cell_type": "code",
   "execution_count": null,
   "metadata": {},
   "outputs": [],
   "source": [
    "import math"
   ]
  },
  {
   "cell_type": "code",
   "execution_count": null,
   "metadata": {},
   "outputs": [],
   "source": [
    "torch.set_default_device(\"cuda\")"
   ]
  },
  {
   "cell_type": "code",
   "execution_count": null,
   "metadata": {},
   "outputs": [
    {
     "ename": "RuntimeError",
     "evalue": "Expected all tensors to be on the same device, but found at least two devices, cpu and cuda:0! (when checking argument for argument mat1 in method wrapper_CUDA_addmm)",
     "output_type": "error",
     "traceback": [
      "\u001b[0;31m---------------------------------------------------------------------------\u001b[0m",
      "\u001b[0;31mRuntimeError\u001b[0m                              Traceback (most recent call last)",
      "Cell \u001b[0;32mIn[28], line 1\u001b[0m\n\u001b[0;32m----> 1\u001b[0m src \u001b[38;5;241m=\u001b[39m testmodel\u001b[38;5;241m.\u001b[39mencoder(src) \u001b[38;5;241m*\u001b[39m math\u001b[38;5;241m.\u001b[39msqrt(testmodel\u001b[38;5;241m.\u001b[39membedding_size)\n\u001b[1;32m      2\u001b[0m src\n",
      "File \u001b[0;32m~/anaconda3/envs/tqs2/lib/python3.12/site-packages/torch/nn/modules/module.py:1532\u001b[0m, in \u001b[0;36mModule._wrapped_call_impl\u001b[0;34m(self, *args, **kwargs)\u001b[0m\n\u001b[1;32m   1530\u001b[0m     \u001b[38;5;28;01mreturn\u001b[39;00m \u001b[38;5;28mself\u001b[39m\u001b[38;5;241m.\u001b[39m_compiled_call_impl(\u001b[38;5;241m*\u001b[39margs, \u001b[38;5;241m*\u001b[39m\u001b[38;5;241m*\u001b[39mkwargs)  \u001b[38;5;66;03m# type: ignore[misc]\u001b[39;00m\n\u001b[1;32m   1531\u001b[0m \u001b[38;5;28;01melse\u001b[39;00m:\n\u001b[0;32m-> 1532\u001b[0m     \u001b[38;5;28;01mreturn\u001b[39;00m \u001b[38;5;28mself\u001b[39m\u001b[38;5;241m.\u001b[39m_call_impl(\u001b[38;5;241m*\u001b[39margs, \u001b[38;5;241m*\u001b[39m\u001b[38;5;241m*\u001b[39mkwargs)\n",
      "File \u001b[0;32m~/anaconda3/envs/tqs2/lib/python3.12/site-packages/torch/nn/modules/module.py:1541\u001b[0m, in \u001b[0;36mModule._call_impl\u001b[0;34m(self, *args, **kwargs)\u001b[0m\n\u001b[1;32m   1536\u001b[0m \u001b[38;5;66;03m# If we don't have any hooks, we want to skip the rest of the logic in\u001b[39;00m\n\u001b[1;32m   1537\u001b[0m \u001b[38;5;66;03m# this function, and just call forward.\u001b[39;00m\n\u001b[1;32m   1538\u001b[0m \u001b[38;5;28;01mif\u001b[39;00m \u001b[38;5;129;01mnot\u001b[39;00m (\u001b[38;5;28mself\u001b[39m\u001b[38;5;241m.\u001b[39m_backward_hooks \u001b[38;5;129;01mor\u001b[39;00m \u001b[38;5;28mself\u001b[39m\u001b[38;5;241m.\u001b[39m_backward_pre_hooks \u001b[38;5;129;01mor\u001b[39;00m \u001b[38;5;28mself\u001b[39m\u001b[38;5;241m.\u001b[39m_forward_hooks \u001b[38;5;129;01mor\u001b[39;00m \u001b[38;5;28mself\u001b[39m\u001b[38;5;241m.\u001b[39m_forward_pre_hooks\n\u001b[1;32m   1539\u001b[0m         \u001b[38;5;129;01mor\u001b[39;00m _global_backward_pre_hooks \u001b[38;5;129;01mor\u001b[39;00m _global_backward_hooks\n\u001b[1;32m   1540\u001b[0m         \u001b[38;5;129;01mor\u001b[39;00m _global_forward_hooks \u001b[38;5;129;01mor\u001b[39;00m _global_forward_pre_hooks):\n\u001b[0;32m-> 1541\u001b[0m     \u001b[38;5;28;01mreturn\u001b[39;00m forward_call(\u001b[38;5;241m*\u001b[39margs, \u001b[38;5;241m*\u001b[39m\u001b[38;5;241m*\u001b[39mkwargs)\n\u001b[1;32m   1543\u001b[0m \u001b[38;5;28;01mtry\u001b[39;00m:\n\u001b[1;32m   1544\u001b[0m     result \u001b[38;5;241m=\u001b[39m \u001b[38;5;28;01mNone\u001b[39;00m\n",
      "File \u001b[0;32m~/anaconda3/envs/tqs2/lib/python3.12/site-packages/torch/nn/modules/linear.py:116\u001b[0m, in \u001b[0;36mLinear.forward\u001b[0;34m(self, input)\u001b[0m\n\u001b[1;32m    115\u001b[0m \u001b[38;5;28;01mdef\u001b[39;00m \u001b[38;5;21mforward\u001b[39m(\u001b[38;5;28mself\u001b[39m, \u001b[38;5;28minput\u001b[39m: Tensor) \u001b[38;5;241m-\u001b[39m\u001b[38;5;241m>\u001b[39m Tensor:\n\u001b[0;32m--> 116\u001b[0m     \u001b[38;5;28;01mreturn\u001b[39;00m F\u001b[38;5;241m.\u001b[39mlinear(\u001b[38;5;28minput\u001b[39m, \u001b[38;5;28mself\u001b[39m\u001b[38;5;241m.\u001b[39mweight, \u001b[38;5;28mself\u001b[39m\u001b[38;5;241m.\u001b[39mbias)\n",
      "File \u001b[0;32m~/anaconda3/envs/tqs2/lib/python3.12/site-packages/torch/utils/_device.py:78\u001b[0m, in \u001b[0;36mDeviceContext.__torch_function__\u001b[0;34m(self, func, types, args, kwargs)\u001b[0m\n\u001b[1;32m     76\u001b[0m \u001b[38;5;28;01mif\u001b[39;00m func \u001b[38;5;129;01min\u001b[39;00m _device_constructors() \u001b[38;5;129;01mand\u001b[39;00m kwargs\u001b[38;5;241m.\u001b[39mget(\u001b[38;5;124m'\u001b[39m\u001b[38;5;124mdevice\u001b[39m\u001b[38;5;124m'\u001b[39m) \u001b[38;5;129;01mis\u001b[39;00m \u001b[38;5;28;01mNone\u001b[39;00m:\n\u001b[1;32m     77\u001b[0m     kwargs[\u001b[38;5;124m'\u001b[39m\u001b[38;5;124mdevice\u001b[39m\u001b[38;5;124m'\u001b[39m] \u001b[38;5;241m=\u001b[39m \u001b[38;5;28mself\u001b[39m\u001b[38;5;241m.\u001b[39mdevice\n\u001b[0;32m---> 78\u001b[0m \u001b[38;5;28;01mreturn\u001b[39;00m func(\u001b[38;5;241m*\u001b[39margs, \u001b[38;5;241m*\u001b[39m\u001b[38;5;241m*\u001b[39mkwargs)\n",
      "\u001b[0;31mRuntimeError\u001b[0m: Expected all tensors to be on the same device, but found at least two devices, cpu and cuda:0! (when checking argument for argument mat1 in method wrapper_CUDA_addmm)"
     ]
    }
   ],
   "source": [
    "src = testmodel.encoder(src) * math.sqrt(testmodel.embedding_size)\n",
    "src"
   ]
  },
  {
   "cell_type": "code",
   "execution_count": null,
   "metadata": {},
   "outputs": [
    {
     "data": {
      "text/plain": [
       "tensor([[[-1.2558, -0.1955, -0.1439,  ...,  0.7043,  1.1742,  0.7694],\n",
       "         [-1.2558, -0.1955, -0.1439,  ...,  0.7043,  1.1742,  0.7694],\n",
       "         [-1.2558, -0.1955, -0.1439,  ...,  0.7043,  1.1742,  0.7694],\n",
       "         ...,\n",
       "         [-1.2558, -0.1955, -0.1439,  ...,  0.7043,  1.1742,  0.7694],\n",
       "         [-1.2558, -0.1955, -0.1439,  ...,  0.7043,  1.1742,  0.7694],\n",
       "         [-1.2558, -0.1955, -0.1439,  ...,  0.7043,  1.1742,  0.7694]],\n",
       "\n",
       "        [[ 0.0594, -0.1669, -0.1766,  ..., -0.3560, -0.3450, -0.0269],\n",
       "         [ 0.0594, -0.1669, -0.1766,  ..., -0.3560, -0.3450, -0.0269],\n",
       "         [ 0.0594, -0.1669, -0.1766,  ..., -0.3560, -0.3450, -0.0269],\n",
       "         ...,\n",
       "         [ 0.0594, -0.1669, -0.1766,  ..., -0.3560, -0.3450, -0.0269],\n",
       "         [ 0.0594, -0.1669, -0.1766,  ..., -0.3560, -0.3450, -0.0269],\n",
       "         [ 0.0594, -0.1669, -0.1766,  ..., -0.3560, -0.3450, -0.0269]],\n",
       "\n",
       "        [[ 0.1011,  1.4968,  0.0705,  ...,  0.9532, -0.0762,  0.9932],\n",
       "         [ 0.1011,  1.4968,  0.0705,  ...,  0.9532, -0.0762,  0.9932],\n",
       "         [ 0.1011,  1.4968,  0.0705,  ...,  0.9532, -0.0762,  0.9932],\n",
       "         ...,\n",
       "         [ 0.0706,  0.9873,  0.3307,  ...,  1.2134,  0.5056,  0.5697],\n",
       "         [ 0.0706,  0.9873,  0.3307,  ...,  1.2134,  0.5056,  0.5697],\n",
       "         [ 0.0706,  0.9873,  0.3307,  ...,  1.2134,  0.5056,  0.5697]],\n",
       "\n",
       "        ...,\n",
       "\n",
       "        [[-0.8603,  0.2217, -0.0641,  ...,  0.9532, -0.0732,  0.9932],\n",
       "         [-0.8603,  0.2217, -0.0641,  ...,  0.9532, -0.0732,  0.9932],\n",
       "         [-0.8603,  0.2217, -0.0641,  ...,  0.9532, -0.0732,  0.9932],\n",
       "         ...,\n",
       "         [-0.8908, -0.2879,  0.1961,  ...,  1.2134,  0.5086,  0.5697],\n",
       "         [-0.8908, -0.2879,  0.1961,  ...,  1.2134,  0.5086,  0.5697],\n",
       "         [-0.8908, -0.2879,  0.1961,  ...,  1.2134,  0.5086,  0.5697]],\n",
       "\n",
       "        [[-0.6499,  1.1572, -0.5717,  ...,  0.9531, -0.0730,  0.9932],\n",
       "         [-0.6499,  1.1572, -0.5717,  ...,  0.9531, -0.0730,  0.9932],\n",
       "         [-0.6804,  0.6476, -0.3115,  ...,  1.2134,  0.5088,  0.5697],\n",
       "         ...,\n",
       "         [-0.6499,  1.1572, -0.5717,  ...,  0.9531, -0.0730,  0.9932],\n",
       "         [-0.6804,  0.6476, -0.3115,  ...,  1.2134,  0.5088,  0.5697],\n",
       "         [-0.6804,  0.6476, -0.3115,  ...,  1.2134,  0.5088,  0.5697]],\n",
       "\n",
       "        [[ 0.2510,  1.4855, -0.8815,  ...,  0.9531, -0.0728,  0.9932],\n",
       "         [ 0.2205,  0.9760, -0.6213,  ...,  1.2134,  0.5090,  0.5697],\n",
       "         [ 0.2510,  1.4855, -0.8815,  ...,  0.9531, -0.0728,  0.9932],\n",
       "         ...,\n",
       "         [ 0.2205,  0.9760, -0.6213,  ...,  1.2134,  0.5090,  0.5697],\n",
       "         [ 0.2510,  1.4855, -0.8815,  ...,  0.9531, -0.0728,  0.9932],\n",
       "         [ 0.2205,  0.9760, -0.6213,  ...,  1.2134,  0.5090,  0.5697]]],\n",
       "       device='cuda:0', grad_fn=<AddBackward0>)"
      ]
     },
     "execution_count": 52,
     "metadata": {},
     "output_type": "execute_result"
    }
   ],
   "source": [
    "src = testmodel.pos_encoder(src)\n",
    "src"
   ]
  },
  {
   "cell_type": "code",
   "execution_count": null,
   "metadata": {},
   "outputs": [
    {
     "ename": "AssertionError",
     "evalue": "",
     "output_type": "error",
     "traceback": [
      "\u001b[0;31m---------------------------------------------------------------------------\u001b[0m",
      "\u001b[0;31mAssertionError\u001b[0m                            Traceback (most recent call last)",
      "Cell \u001b[0;32mIn[25], line 1\u001b[0m\n\u001b[0;32m----> 1\u001b[0m output \u001b[38;5;241m=\u001b[39m testmodel\u001b[38;5;241m.\u001b[39mtransformer_encoder(src, testmodel\u001b[38;5;241m.\u001b[39msrc_mask)\n",
      "File \u001b[0;32m~/anaconda3/envs/tqs2/lib/python3.12/site-packages/torch/nn/modules/module.py:1532\u001b[0m, in \u001b[0;36mModule._wrapped_call_impl\u001b[0;34m(self, *args, **kwargs)\u001b[0m\n\u001b[1;32m   1530\u001b[0m     \u001b[38;5;28;01mreturn\u001b[39;00m \u001b[38;5;28mself\u001b[39m\u001b[38;5;241m.\u001b[39m_compiled_call_impl(\u001b[38;5;241m*\u001b[39margs, \u001b[38;5;241m*\u001b[39m\u001b[38;5;241m*\u001b[39mkwargs)  \u001b[38;5;66;03m# type: ignore[misc]\u001b[39;00m\n\u001b[1;32m   1531\u001b[0m \u001b[38;5;28;01melse\u001b[39;00m:\n\u001b[0;32m-> 1532\u001b[0m     \u001b[38;5;28;01mreturn\u001b[39;00m \u001b[38;5;28mself\u001b[39m\u001b[38;5;241m.\u001b[39m_call_impl(\u001b[38;5;241m*\u001b[39margs, \u001b[38;5;241m*\u001b[39m\u001b[38;5;241m*\u001b[39mkwargs)\n",
      "File \u001b[0;32m~/anaconda3/envs/tqs2/lib/python3.12/site-packages/torch/nn/modules/module.py:1541\u001b[0m, in \u001b[0;36mModule._call_impl\u001b[0;34m(self, *args, **kwargs)\u001b[0m\n\u001b[1;32m   1536\u001b[0m \u001b[38;5;66;03m# If we don't have any hooks, we want to skip the rest of the logic in\u001b[39;00m\n\u001b[1;32m   1537\u001b[0m \u001b[38;5;66;03m# this function, and just call forward.\u001b[39;00m\n\u001b[1;32m   1538\u001b[0m \u001b[38;5;28;01mif\u001b[39;00m \u001b[38;5;129;01mnot\u001b[39;00m (\u001b[38;5;28mself\u001b[39m\u001b[38;5;241m.\u001b[39m_backward_hooks \u001b[38;5;129;01mor\u001b[39;00m \u001b[38;5;28mself\u001b[39m\u001b[38;5;241m.\u001b[39m_backward_pre_hooks \u001b[38;5;129;01mor\u001b[39;00m \u001b[38;5;28mself\u001b[39m\u001b[38;5;241m.\u001b[39m_forward_hooks \u001b[38;5;129;01mor\u001b[39;00m \u001b[38;5;28mself\u001b[39m\u001b[38;5;241m.\u001b[39m_forward_pre_hooks\n\u001b[1;32m   1539\u001b[0m         \u001b[38;5;129;01mor\u001b[39;00m _global_backward_pre_hooks \u001b[38;5;129;01mor\u001b[39;00m _global_backward_hooks\n\u001b[1;32m   1540\u001b[0m         \u001b[38;5;129;01mor\u001b[39;00m _global_forward_hooks \u001b[38;5;129;01mor\u001b[39;00m _global_forward_pre_hooks):\n\u001b[0;32m-> 1541\u001b[0m     \u001b[38;5;28;01mreturn\u001b[39;00m forward_call(\u001b[38;5;241m*\u001b[39margs, \u001b[38;5;241m*\u001b[39m\u001b[38;5;241m*\u001b[39mkwargs)\n\u001b[1;32m   1543\u001b[0m \u001b[38;5;28;01mtry\u001b[39;00m:\n\u001b[1;32m   1544\u001b[0m     result \u001b[38;5;241m=\u001b[39m \u001b[38;5;28;01mNone\u001b[39;00m\n",
      "File \u001b[0;32m~/anaconda3/envs/tqs2/lib/python3.12/site-packages/torch/nn/modules/transformer.py:415\u001b[0m, in \u001b[0;36mTransformerEncoder.forward\u001b[0;34m(self, src, mask, src_key_padding_mask, is_causal)\u001b[0m\n\u001b[1;32m    412\u001b[0m is_causal \u001b[38;5;241m=\u001b[39m _detect_is_causal_mask(mask, is_causal, seq_len)\n\u001b[1;32m    414\u001b[0m \u001b[38;5;28;01mfor\u001b[39;00m mod \u001b[38;5;129;01min\u001b[39;00m \u001b[38;5;28mself\u001b[39m\u001b[38;5;241m.\u001b[39mlayers:\n\u001b[0;32m--> 415\u001b[0m     output \u001b[38;5;241m=\u001b[39m mod(output, src_mask\u001b[38;5;241m=\u001b[39mmask, is_causal\u001b[38;5;241m=\u001b[39mis_causal, src_key_padding_mask\u001b[38;5;241m=\u001b[39msrc_key_padding_mask_for_layers)\n\u001b[1;32m    417\u001b[0m \u001b[38;5;28;01mif\u001b[39;00m convert_to_nested:\n\u001b[1;32m    418\u001b[0m     output \u001b[38;5;241m=\u001b[39m output\u001b[38;5;241m.\u001b[39mto_padded_tensor(\u001b[38;5;241m0.\u001b[39m, src\u001b[38;5;241m.\u001b[39msize())\n",
      "File \u001b[0;32m~/anaconda3/envs/tqs2/lib/python3.12/site-packages/torch/nn/modules/module.py:1532\u001b[0m, in \u001b[0;36mModule._wrapped_call_impl\u001b[0;34m(self, *args, **kwargs)\u001b[0m\n\u001b[1;32m   1530\u001b[0m     \u001b[38;5;28;01mreturn\u001b[39;00m \u001b[38;5;28mself\u001b[39m\u001b[38;5;241m.\u001b[39m_compiled_call_impl(\u001b[38;5;241m*\u001b[39margs, \u001b[38;5;241m*\u001b[39m\u001b[38;5;241m*\u001b[39mkwargs)  \u001b[38;5;66;03m# type: ignore[misc]\u001b[39;00m\n\u001b[1;32m   1531\u001b[0m \u001b[38;5;28;01melse\u001b[39;00m:\n\u001b[0;32m-> 1532\u001b[0m     \u001b[38;5;28;01mreturn\u001b[39;00m \u001b[38;5;28mself\u001b[39m\u001b[38;5;241m.\u001b[39m_call_impl(\u001b[38;5;241m*\u001b[39margs, \u001b[38;5;241m*\u001b[39m\u001b[38;5;241m*\u001b[39mkwargs)\n",
      "File \u001b[0;32m~/anaconda3/envs/tqs2/lib/python3.12/site-packages/torch/nn/modules/module.py:1541\u001b[0m, in \u001b[0;36mModule._call_impl\u001b[0;34m(self, *args, **kwargs)\u001b[0m\n\u001b[1;32m   1536\u001b[0m \u001b[38;5;66;03m# If we don't have any hooks, we want to skip the rest of the logic in\u001b[39;00m\n\u001b[1;32m   1537\u001b[0m \u001b[38;5;66;03m# this function, and just call forward.\u001b[39;00m\n\u001b[1;32m   1538\u001b[0m \u001b[38;5;28;01mif\u001b[39;00m \u001b[38;5;129;01mnot\u001b[39;00m (\u001b[38;5;28mself\u001b[39m\u001b[38;5;241m.\u001b[39m_backward_hooks \u001b[38;5;129;01mor\u001b[39;00m \u001b[38;5;28mself\u001b[39m\u001b[38;5;241m.\u001b[39m_backward_pre_hooks \u001b[38;5;129;01mor\u001b[39;00m \u001b[38;5;28mself\u001b[39m\u001b[38;5;241m.\u001b[39m_forward_hooks \u001b[38;5;129;01mor\u001b[39;00m \u001b[38;5;28mself\u001b[39m\u001b[38;5;241m.\u001b[39m_forward_pre_hooks\n\u001b[1;32m   1539\u001b[0m         \u001b[38;5;129;01mor\u001b[39;00m _global_backward_pre_hooks \u001b[38;5;129;01mor\u001b[39;00m _global_backward_hooks\n\u001b[1;32m   1540\u001b[0m         \u001b[38;5;129;01mor\u001b[39;00m _global_forward_hooks \u001b[38;5;129;01mor\u001b[39;00m _global_forward_pre_hooks):\n\u001b[0;32m-> 1541\u001b[0m     \u001b[38;5;28;01mreturn\u001b[39;00m forward_call(\u001b[38;5;241m*\u001b[39margs, \u001b[38;5;241m*\u001b[39m\u001b[38;5;241m*\u001b[39mkwargs)\n\u001b[1;32m   1543\u001b[0m \u001b[38;5;28;01mtry\u001b[39;00m:\n\u001b[1;32m   1544\u001b[0m     result \u001b[38;5;241m=\u001b[39m \u001b[38;5;28;01mNone\u001b[39;00m\n",
      "File \u001b[0;32m~/Projects/tqs/custom_transformer_layer.py:119\u001b[0m, in \u001b[0;36mTransformerEncoderLayer.forward\u001b[0;34m(self, src, src_mask, src_key_padding_mask, **kwargs)\u001b[0m\n\u001b[1;32m    117\u001b[0m     x \u001b[38;5;241m=\u001b[39m x \u001b[38;5;241m+\u001b[39m \u001b[38;5;28mself\u001b[39m\u001b[38;5;241m.\u001b[39m_ff_block(\u001b[38;5;28mself\u001b[39m\u001b[38;5;241m.\u001b[39mnorm2(x))\n\u001b[1;32m    118\u001b[0m \u001b[38;5;28;01melse\u001b[39;00m:\n\u001b[0;32m--> 119\u001b[0m     x \u001b[38;5;241m=\u001b[39m \u001b[38;5;28mself\u001b[39m\u001b[38;5;241m.\u001b[39mnorm1(x \u001b[38;5;241m+\u001b[39m \u001b[38;5;28mself\u001b[39m\u001b[38;5;241m.\u001b[39m_sa_block(x, src_mask, src_key_padding_mask))\n\u001b[1;32m    120\u001b[0m     x \u001b[38;5;241m=\u001b[39m \u001b[38;5;28mself\u001b[39m\u001b[38;5;241m.\u001b[39mnorm2(x \u001b[38;5;241m+\u001b[39m \u001b[38;5;28mself\u001b[39m\u001b[38;5;241m.\u001b[39m_ff_block(x))\n\u001b[1;32m    122\u001b[0m \u001b[38;5;28;01mreturn\u001b[39;00m x\n",
      "File \u001b[0;32m~/Projects/tqs/custom_transformer_layer.py:128\u001b[0m, in \u001b[0;36mTransformerEncoderLayer._sa_block\u001b[0;34m(self, x, attn_mask, key_padding_mask)\u001b[0m\n\u001b[1;32m    125\u001b[0m \u001b[38;5;28;01mdef\u001b[39;00m \u001b[38;5;21m_sa_block\u001b[39m(\n\u001b[1;32m    126\u001b[0m     \u001b[38;5;28mself\u001b[39m, x: Tensor, attn_mask: Optional[Tensor], key_padding_mask: Optional[Tensor]\n\u001b[1;32m    127\u001b[0m ) \u001b[38;5;241m-\u001b[39m\u001b[38;5;241m>\u001b[39m Tensor:\n\u001b[0;32m--> 128\u001b[0m     x \u001b[38;5;241m=\u001b[39m \u001b[38;5;28mself\u001b[39m\u001b[38;5;241m.\u001b[39mself_attn(\n\u001b[1;32m    129\u001b[0m         x,\n\u001b[1;32m    130\u001b[0m         x,\n\u001b[1;32m    131\u001b[0m         x,\n\u001b[1;32m    132\u001b[0m         attn_mask\u001b[38;5;241m=\u001b[39mattn_mask,\n\u001b[1;32m    133\u001b[0m         key_padding_mask\u001b[38;5;241m=\u001b[39mkey_padding_mask,\n\u001b[1;32m    134\u001b[0m         need_weights\u001b[38;5;241m=\u001b[39m\u001b[38;5;28;01mFalse\u001b[39;00m,\n\u001b[1;32m    135\u001b[0m     )[\u001b[38;5;241m0\u001b[39m]\n\u001b[1;32m    136\u001b[0m     \u001b[38;5;28;01mreturn\u001b[39;00m \u001b[38;5;28mself\u001b[39m\u001b[38;5;241m.\u001b[39mdropout1(x)\n",
      "File \u001b[0;32m~/anaconda3/envs/tqs2/lib/python3.12/site-packages/torch/nn/modules/module.py:1532\u001b[0m, in \u001b[0;36mModule._wrapped_call_impl\u001b[0;34m(self, *args, **kwargs)\u001b[0m\n\u001b[1;32m   1530\u001b[0m     \u001b[38;5;28;01mreturn\u001b[39;00m \u001b[38;5;28mself\u001b[39m\u001b[38;5;241m.\u001b[39m_compiled_call_impl(\u001b[38;5;241m*\u001b[39margs, \u001b[38;5;241m*\u001b[39m\u001b[38;5;241m*\u001b[39mkwargs)  \u001b[38;5;66;03m# type: ignore[misc]\u001b[39;00m\n\u001b[1;32m   1531\u001b[0m \u001b[38;5;28;01melse\u001b[39;00m:\n\u001b[0;32m-> 1532\u001b[0m     \u001b[38;5;28;01mreturn\u001b[39;00m \u001b[38;5;28mself\u001b[39m\u001b[38;5;241m.\u001b[39m_call_impl(\u001b[38;5;241m*\u001b[39margs, \u001b[38;5;241m*\u001b[39m\u001b[38;5;241m*\u001b[39mkwargs)\n",
      "File \u001b[0;32m~/anaconda3/envs/tqs2/lib/python3.12/site-packages/torch/nn/modules/module.py:1541\u001b[0m, in \u001b[0;36mModule._call_impl\u001b[0;34m(self, *args, **kwargs)\u001b[0m\n\u001b[1;32m   1536\u001b[0m \u001b[38;5;66;03m# If we don't have any hooks, we want to skip the rest of the logic in\u001b[39;00m\n\u001b[1;32m   1537\u001b[0m \u001b[38;5;66;03m# this function, and just call forward.\u001b[39;00m\n\u001b[1;32m   1538\u001b[0m \u001b[38;5;28;01mif\u001b[39;00m \u001b[38;5;129;01mnot\u001b[39;00m (\u001b[38;5;28mself\u001b[39m\u001b[38;5;241m.\u001b[39m_backward_hooks \u001b[38;5;129;01mor\u001b[39;00m \u001b[38;5;28mself\u001b[39m\u001b[38;5;241m.\u001b[39m_backward_pre_hooks \u001b[38;5;129;01mor\u001b[39;00m \u001b[38;5;28mself\u001b[39m\u001b[38;5;241m.\u001b[39m_forward_hooks \u001b[38;5;129;01mor\u001b[39;00m \u001b[38;5;28mself\u001b[39m\u001b[38;5;241m.\u001b[39m_forward_pre_hooks\n\u001b[1;32m   1539\u001b[0m         \u001b[38;5;129;01mor\u001b[39;00m _global_backward_pre_hooks \u001b[38;5;129;01mor\u001b[39;00m _global_backward_hooks\n\u001b[1;32m   1540\u001b[0m         \u001b[38;5;129;01mor\u001b[39;00m _global_forward_hooks \u001b[38;5;129;01mor\u001b[39;00m _global_forward_pre_hooks):\n\u001b[0;32m-> 1541\u001b[0m     \u001b[38;5;28;01mreturn\u001b[39;00m forward_call(\u001b[38;5;241m*\u001b[39margs, \u001b[38;5;241m*\u001b[39m\u001b[38;5;241m*\u001b[39mkwargs)\n\u001b[1;32m   1543\u001b[0m \u001b[38;5;28;01mtry\u001b[39;00m:\n\u001b[1;32m   1544\u001b[0m     result \u001b[38;5;241m=\u001b[39m \u001b[38;5;28;01mNone\u001b[39;00m\n",
      "File \u001b[0;32m~/Projects/tqs/custom_modules.py:142\u001b[0m, in \u001b[0;36mMultiheadAttention.forward\u001b[0;34m(self, query, key, value, key_padding_mask, need_weights, attn_mask, average_attn_weights)\u001b[0m\n\u001b[1;32m     86\u001b[0m \u001b[38;5;28;01mdef\u001b[39;00m \u001b[38;5;21mforward\u001b[39m(\u001b[38;5;28mself\u001b[39m,\n\u001b[1;32m     87\u001b[0m             query: Tensor,\n\u001b[1;32m     88\u001b[0m             key: Tensor,\n\u001b[0;32m   (...)\u001b[0m\n\u001b[1;32m     92\u001b[0m             attn_mask: Optional[Tensor] \u001b[38;5;241m=\u001b[39m \u001b[38;5;28;01mNone\u001b[39;00m,\n\u001b[1;32m     93\u001b[0m             average_attn_weights: \u001b[38;5;28mbool\u001b[39m \u001b[38;5;241m=\u001b[39m \u001b[38;5;28;01mTrue\u001b[39;00m) \u001b[38;5;241m-\u001b[39m\u001b[38;5;241m>\u001b[39m Tuple[Tensor, Optional[Tensor]]:\n\u001b[1;32m     94\u001b[0m \u001b[38;5;250m    \u001b[39m\u001b[38;5;124mr\u001b[39m\u001b[38;5;124;03m\"\"\"\u001b[39;00m\n\u001b[1;32m     95\u001b[0m \u001b[38;5;124;03mNote::\u001b[39;00m\n\u001b[1;32m     96\u001b[0m \u001b[38;5;124;03m    Please, refer to :func:`~torch.nn.MultiheadAttention.forward` for more\u001b[39;00m\n\u001b[0;32m   (...)\u001b[0m\n\u001b[1;32m    140\u001b[0m \u001b[38;5;124;03m      head of shape :math:`(N, num_heads, L, S)`.\u001b[39;00m\n\u001b[1;32m    141\u001b[0m \u001b[38;5;124;03m    \"\"\"\u001b[39;00m\n\u001b[0;32m--> 142\u001b[0m     \u001b[38;5;28;01mreturn\u001b[39;00m \u001b[38;5;28mself\u001b[39m\u001b[38;5;241m.\u001b[39m_forward_impl(query, key, value, key_padding_mask,\n\u001b[1;32m    143\u001b[0m                               need_weights, attn_mask, average_attn_weights)\n",
      "File \u001b[0;32m~/Projects/tqs/custom_modules.py:165\u001b[0m, in \u001b[0;36mMultiheadAttention._forward_impl\u001b[0;34m(self, query, key, value, key_padding_mask, need_weights, attn_mask, average_attn_weights)\u001b[0m\n\u001b[1;32m    162\u001b[0m     query, key, value \u001b[38;5;241m=\u001b[39m [x\u001b[38;5;241m.\u001b[39mtranspose(\u001b[38;5;241m0\u001b[39m, \u001b[38;5;241m1\u001b[39m) \u001b[38;5;28;01mfor\u001b[39;00m x \u001b[38;5;129;01min\u001b[39;00m (query, key, value)]\n\u001b[1;32m    164\u001b[0m tgt_len, bsz, embed_dim_to_check \u001b[38;5;241m=\u001b[39m query\u001b[38;5;241m.\u001b[39msize()\n\u001b[0;32m--> 165\u001b[0m \u001b[38;5;28;01massert\u001b[39;00m \u001b[38;5;28mself\u001b[39m\u001b[38;5;241m.\u001b[39membed_dim \u001b[38;5;241m==\u001b[39m embed_dim_to_check\n\u001b[1;32m    166\u001b[0m \u001b[38;5;66;03m# allow MHA to have different sizes for the feature dimension\u001b[39;00m\n\u001b[1;32m    167\u001b[0m \u001b[38;5;28;01massert\u001b[39;00m key\u001b[38;5;241m.\u001b[39msize(\u001b[38;5;241m0\u001b[39m) \u001b[38;5;241m==\u001b[39m value\u001b[38;5;241m.\u001b[39msize(\u001b[38;5;241m0\u001b[39m) \u001b[38;5;129;01mand\u001b[39;00m key\u001b[38;5;241m.\u001b[39msize(\u001b[38;5;241m1\u001b[39m) \u001b[38;5;241m==\u001b[39m value\u001b[38;5;241m.\u001b[39msize(\u001b[38;5;241m1\u001b[39m)\n",
      "\u001b[0;31mAssertionError\u001b[0m: "
     ]
    }
   ],
   "source": [
    "# output = testmodel.transformer_encoder(src, testmodel.src_mask)"
   ]
  },
  {
   "cell_type": "code",
   "execution_count": null,
   "metadata": {},
   "outputs": [],
   "source": []
  }
 ],
 "metadata": {
  "kernelspec": {
   "display_name": "tqs2",
   "language": "python",
   "name": "python3"
  },
  "language_info": {
   "codemirror_mode": {
    "name": "ipython",
    "version": 3
   },
   "file_extension": ".py",
   "mimetype": "text/x-python",
   "name": "python",
   "nbconvert_exporter": "python",
   "pygments_lexer": "ipython3",
   "version": "3.12.2"
  }
 },
 "nbformat": 4,
 "nbformat_minor": 2
}
